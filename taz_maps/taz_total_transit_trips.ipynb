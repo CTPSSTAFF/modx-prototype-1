{
 "cells": [
  {
   "cell_type": "code",
   "execution_count": null,
   "id": "adolescent-independence",
   "metadata": {},
   "outputs": [],
   "source": [
    "# Total transit trips notebook\n",
    "\n",
    "import openmatrix as omx\n",
    "import numpy as np\n",
    "import pandas as pd\n",
    "import geopandas as gp\n",
    "import matplotlib.pyplot as plt\n",
    "import bokeh\n",
    "import xarray as xr\n",
    "import hvplot.pandas\n",
    "import hvplot.xarray"
   ]
  },
  {
   "cell_type": "code",
   "execution_count": null,
   "id": "continuing-magazine",
   "metadata": {},
   "outputs": [],
   "source": [
    "%matplotlib notebook"
   ]
  },
  {
   "cell_type": "code",
   "execution_count": null,
   "id": "biblical-thumb",
   "metadata": {},
   "outputs": [],
   "source": [
    "# Root directory for MoDX output for \"base year\" model results.\n",
    "#\n",
    "base_scenario_dir = r'G:/Regional_Modeling/1A_Archives/LRTP_2018/2016 Scen 00_08March2019_MoDXoutputs/'\n",
    "#\n",
    "# Root directory for MoDX output for \"comparison scenario\" model results.\n",
    "# \n",
    "comparison_scenario_dir = r'G:/Regional_Modeling/1A_Archives/LRTP_2018/2040 NB Scen 01_MoDXoutputs/'"
   ]
  },
  {
   "cell_type": "code",
   "execution_count": null,
   "id": "extended-senator",
   "metadata": {},
   "outputs": [],
   "source": [
    "# ===>>>USER INPUT REQUIRED: <<<===\n",
    "#\n",
    "# Supply path to root directory of scenario to use for the current run of this notebook:\n",
    "# \n",
    "home_dir = base_scenario_dir"
   ]
  },
  {
   "cell_type": "code",
   "execution_count": null,
   "id": "developmental-object",
   "metadata": {},
   "outputs": [],
   "source": [
    "taz_shapefile_base_dir = r'G:/Data_Resources/modx/canonical_TAZ_shapefile/'"
   ]
  },
  {
   "cell_type": "code",
   "execution_count": null,
   "id": "alien-image",
   "metadata": {},
   "outputs": [],
   "source": [
    "# trip_tables directory - this really \"should\" be a subdirectory of the base directory, but is isn't currently.\n",
    "# The real McCoy - where things should go, and will eventually go\n",
    "tt_dir = home_dir + 'out/'"
   ]
  },
  {
   "cell_type": "code",
   "execution_count": null,
   "id": "excess-external",
   "metadata": {},
   "outputs": [],
   "source": [
    "# trip tables OMX file (matrices)\n",
    "tt_am = tt_dir + 'AfterSC_Final_AM_Tables.omx'\n",
    "tt_md = tt_dir + 'AfterSC_Final_MD_Tables.omx'\n",
    "tt_pm = tt_dir + 'AfterSC_Final_PM_Tables.omx'\n",
    "tt_nt = tt_dir + 'AfterSC_Final_NT_Tables.omx'\n",
    "trip_tables = { 'am' : omx.open_file(tt_am, 'r'),\n",
    "                'md' : omx.open_file(tt_pm, 'r'),\n",
    "                'pm' : omx.open_file(tt_pm,'r'),\n",
    "                'nt' : omx.open_file(tt_nt, 'r') }"
   ]
  },
  {
   "cell_type": "code",
   "execution_count": null,
   "id": "loaded-florist",
   "metadata": {},
   "outputs": [],
   "source": [
    "num_tazes = trip_tables['am'].shape()[0]"
   ]
  },
  {
   "cell_type": "code",
   "execution_count": null,
   "id": "upper-franchise",
   "metadata": {},
   "outputs": [],
   "source": [
    "# Mapping from TAZ-ID to OMX index for the 4 periods (these *should* be the same)\n",
    "taz_to_omxid_am = trip_tables['am'].mapping('ID')\n",
    "taz_to_omxid_am = trip_tables['md'].mapping('ID')\n",
    "taz_to_omxid_pm = trip_tables['pm'].mapping('ID')\n",
    "taz_to_omxid_nt = trip_tables['nt'].mapping('ID')"
   ]
  },
  {
   "cell_type": "code",
   "execution_count": null,
   "id": "regulated-preference",
   "metadata": {},
   "outputs": [],
   "source": [
    "# We'll assume that the mapping from TAZ ID to OMX ID doesn't vary by time period.\n",
    "# We'll use the AM mapping as _the_ mapping for all time periods, pending confirmation.\n",
    "# \n",
    "# TBD: Insert \"sanity check\" that the 4 mappings on \"ID\" are identical.\n",
    "#\n",
    "taz_to_omxid = taz_to_omxid_am"
   ]
  },
  {
   "cell_type": "code",
   "execution_count": null,
   "id": "patient-aquarium",
   "metadata": {},
   "outputs": [],
   "source": [
    "# Function: tt_total_for_mode\n",
    "#\n",
    "# Summary: Return the total travel demand, over all i and j, from TAZ[i] to TAZ[j] for the specified mode.\n",
    "#\n",
    "# Given the OMX trip tables for the 4 time periods and a mode,\n",
    "# return an numpy array with the \"numpy sum\" of the data in the OMX array for the 4 time periods.\n",
    "def tt_total_for_mode(tts, mode):\n",
    "\tam = tts['am'][mode]\n",
    "\tmd = tts['md'][mode]\n",
    "\tpm = tts['pm'][mode]\n",
    "\tnt =  tts['nt'][mode]\n",
    "\t# Convert OMX arrays into numpy arrays\n",
    "\tam_np = np.array(am)\n",
    "\tmd_np = np.array(md)\n",
    "\tpm_np = np.array(pm)\n",
    "\tnt_np = np.array(nt)\n",
    "\ttotal = am_np + md_np + pm_np + nt_np\n",
    "\treturn total\n",
    "# end_def tt_total_for_mode"
   ]
  },
  {
   "cell_type": "code",
   "execution_count": null,
   "id": "intelligent-maintenance",
   "metadata": {},
   "outputs": [],
   "source": [
    "# Function to generate the calculation to total demand for a list of modes.\n",
    "# Return a dictionary containing the total demand for each mode, with the key value == the mode name\n",
    "def tt_totals_for_mode_list(tts, mode_list):\n",
    "    retval = {}\n",
    "    for mode in mode_list:\n",
    "        temp = tt_total_for_mode(tts, mode)\n",
    "        retval[mode] = temp\n",
    "    #\n",
    "    return retval\n",
    "# end_def tt_total_for_mode_list"
   ]
  },
  {
   "cell_type": "code",
   "execution_count": null,
   "id": "brutal-civilian",
   "metadata": {},
   "outputs": [],
   "source": [
    "# Transit mode\n",
    "all_transit = tt_totals_for_mode_list(trip_tables,[ 'DAT_Boat', 'DET_Boat', 'DAT_CR', 'DET_CR', \n",
    "                                                    'DAT_LB', 'DET_LB', 'DAT_RT', 'DET_RT', 'WAT'])\n",
    "dat_boat = all_transit['DAT_Boat']\n",
    "det_boat = all_transit['DET_Boat']\n",
    "dat_cr = all_transit['DAT_CR']\n",
    "det_cr = all_transit['DET_CR']\n",
    "dat_lb = all_transit['DAT_LB']\n",
    "det_lb = all_transit['DET_LB']\n",
    "dat_rt = all_transit['DAT_RT']\n",
    "det_rt = all_transit['DET_RT']\n",
    "wat = all_transit['WAT']\n",
    "dat_boat_total = dat_boat.sum(axis=1)\n",
    "det_boat_total = det_boat.sum(axis=1)\n",
    "dat_cr_total = dat_cr.sum(axis=1)\n",
    "det_cr_total = det_cr.sum(axis=1)\n",
    "dat_lb_total = dat_lb.sum(axis=1)\n",
    "det_lb_total = det_lb.sum(axis=1)\n",
    "dat_rt_total = dat_rt.sum(axis=1)\n",
    "det_rt_total = det_rt.sum(axis=1)\n",
    "wat_total = wat.sum(axis=1)\n",
    "# Grand total for transit mode\n",
    "transit_total = dat_boat_total + det_boat_total + dat_cr_total + det_cr_total + \\\n",
    "                dat_lb_total + det_lb_total + dat_rt_total + det_rt_total + wat_total"
   ]
  },
  {
   "cell_type": "code",
   "execution_count": null,
   "id": "weighted-chess",
   "metadata": {},
   "outputs": [],
   "source": [
    "# Build a data frame, indexed by omxid, containing the total of the following kinds of trips originating in each TAZ:\n",
    "# auto_trips, truck_trips, non-motorized trips, transit trips, and total trips.\n",
    "total_transit_trips_df = pd.DataFrame(transit_total, columns=['transit_total']) \n",
    "# Set the data frame's index to the omxid of each row, i.e., its index\n",
    "total_transit_trips_df['omxid'] = total_transit_trips_df.index\n",
    "total_transit_trips_df.set_index('omxid')"
   ]
  },
  {
   "cell_type": "code",
   "execution_count": null,
   "id": "former-williams",
   "metadata": {},
   "outputs": [],
   "source": [
    "# Load the candidate canonical TAZ shapefile as a geopands dataframe.\n",
    "taz_shapefile = taz_shapefile_base_dir + 'candidate_CTPS_TAZ_STATEWIDE_2019_wgs84.shp'\n",
    "taz_gdf = gp.read_file(taz_shapefile)\n",
    "taz_gdf.set_index(\"id\")"
   ]
  },
  {
   "cell_type": "code",
   "execution_count": null,
   "id": "american-shannon",
   "metadata": {},
   "outputs": [],
   "source": [
    "# Add a 'omxid' column to the TAZ geodataframe, in prep for joining with the total trips dataframes.\n",
    "# ==> This also can be done earlier.\n",
    "taz_gdf['omxid'] = taz_gdf.apply(lambda row: taz_to_omxid[row.id], axis=1)"
   ]
  },
  {
   "cell_type": "code",
   "execution_count": null,
   "id": "allied-fifteen",
   "metadata": {},
   "outputs": [],
   "source": [
    "# Join the shapefile geodataframe to the total trips dataframe on 'omxid'\n",
    "joined_df = taz_gdf.join(total_transit_trips_df.set_index('omxid'), on='omxid')"
   ]
  },
  {
   "cell_type": "code",
   "execution_count": null,
   "id": "herbal-license",
   "metadata": {},
   "outputs": [],
   "source": [
    "# Make a static map of total trips by origin TAZ\n",
    "joined_df.plot('transit_total', figsize=(10.0,8.0), cmap='plasma', legend=True)\n",
    "plt.title('Total Transit Trips by Origin TAZ')\n",
    "plt.show()"
   ]
  },
  {
   "cell_type": "code",
   "execution_count": null,
   "id": "respected-following",
   "metadata": {},
   "outputs": [],
   "source": [
    "# Make an interactive map of the above\n",
    "joined_df.hvplot(c='transit_total', \n",
    "                 geo=True, \n",
    "                 hover_cols=['id', 'town', 'transit_total'], \n",
    "                 clabel='Total Trips', \n",
    "                 cmap='plasma',\n",
    "                 frame_height=500).opts(title='Total Transit Trips by Origin TAZ')"
   ]
  },
  {
   "cell_type": "code",
   "execution_count": null,
   "id": "identified-navigator",
   "metadata": {},
   "outputs": [],
   "source": []
  }
 ],
 "metadata": {
  "kernelspec": {
   "display_name": "Python [conda env:.conda-base_py37_omx_gp_hvplot]",
   "language": "python",
   "name": "conda-env-.conda-base_py37_omx_gp_hvplot-py"
  },
  "language_info": {
   "codemirror_mode": {
    "name": "ipython",
    "version": 3
   },
   "file_extension": ".py",
   "mimetype": "text/x-python",
   "name": "python",
   "nbconvert_exporter": "python",
   "pygments_lexer": "ipython3",
   "version": "3.7.10"
  }
 },
 "nbformat": 4,
 "nbformat_minor": 5
}
