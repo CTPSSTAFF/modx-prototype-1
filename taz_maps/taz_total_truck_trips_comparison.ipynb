{
 "cells": [
  {
   "cell_type": "code",
   "execution_count": null,
   "id": "adolescent-independence",
   "metadata": {},
   "outputs": [],
   "source": [
    "# Compare total truck trips from two scenarios notebook\n",
    "\n",
    "import openmatrix as omx\n",
    "import numpy as np\n",
    "import pandas as pd\n",
    "import geopandas as gp\n",
    "import matplotlib.pyplot as plt\n",
    "import bokeh\n",
    "import xarray as xr\n",
    "import hvplot.pandas\n",
    "import hvplot.xarray"
   ]
  },
  {
   "cell_type": "code",
   "execution_count": null,
   "id": "fatal-reproduction",
   "metadata": {},
   "outputs": [],
   "source": [
    "%matplotlib notebook"
   ]
  },
  {
   "cell_type": "code",
   "execution_count": null,
   "id": "biblical-thumb",
   "metadata": {},
   "outputs": [],
   "source": [
    "# Root directory for MoDX output for \"base year\" model results.\n",
    "base_dir = r'G:/Regional_Modeling/1A_Archives/LRTP_2018/2016 Scen 00_08March2019_MoDXoutputs/'"
   ]
  },
  {
   "cell_type": "code",
   "execution_count": null,
   "id": "extended-senator",
   "metadata": {},
   "outputs": [],
   "source": [
    "# Root directory for MoDX output for \"comparison scenario\" model results.\n",
    "comparison_base_dir = r'G:/Regional_Modeling/1A_Archives/LRTP_2018/2040 NB Scen 01_MoDXoutputs/'"
   ]
  },
  {
   "cell_type": "code",
   "execution_count": null,
   "id": "developmental-object",
   "metadata": {},
   "outputs": [],
   "source": [
    "taz_shapefile_base_dir = r'G:/Data_Resources/modx/canonical_TAZ_shapefile/'"
   ]
  },
  {
   "cell_type": "code",
   "execution_count": null,
   "id": "alien-image",
   "metadata": {},
   "outputs": [],
   "source": [
    "# trip_tables directories \n",
    "base_tt_dir = base_dir + 'out/'\n",
    "comp_tt_dir = comparison_base_dir + 'out/'"
   ]
  },
  {
   "cell_type": "code",
   "execution_count": null,
   "id": "excess-external",
   "metadata": {},
   "outputs": [],
   "source": [
    "# trip tables OMX file (matrices) for base scenario\n",
    "base_tt_am = base_tt_dir + 'AfterSC_Final_AM_Tables.omx'\n",
    "base_tt_md = base_tt_dir + 'AfterSC_Final_MD_Tables.omx'\n",
    "base_tt_pm = base_tt_dir + 'AfterSC_Final_PM_Tables.omx'\n",
    "base_tt_nt = base_tt_dir + 'AfterSC_Final_NT_Tables.omx'\n",
    "base_trip_tables = { 'am' :  omx.open_file(base_tt_am, 'r'),\n",
    "                     'md' : omx.open_file(base_tt_pm, 'r'),\n",
    "                     'pm' : omx.open_file(base_tt_pm,'r'),\n",
    "                     'nt'  : omx.open_file(base_tt_nt, 'r') }"
   ]
  },
  {
   "cell_type": "code",
   "execution_count": null,
   "id": "divine-password",
   "metadata": {},
   "outputs": [],
   "source": [
    "# trip tables OMX file (matrices) for comparison scenario\n",
    "comp_tt_am = comp_tt_dir + 'AfterSC_Final_AM_Tables.omx'\n",
    "comp_tt_md = comp_tt_dir + 'AfterSC_Final_MD_Tables.omx'\n",
    "comp_tt_pm = comp_tt_dir + 'AfterSC_Final_PM_Tables.omx'\n",
    "comp_tt_nt = comp_tt_dir + 'AfterSC_Final_NT_Tables.omx'\n",
    "comp_trip_tables = { 'am' :  omx.open_file(base_tt_am, 'r'),\n",
    "                     'md' : omx.open_file(base_tt_pm, 'r'),\n",
    "                     'pm' : omx.open_file(base_tt_pm,'r'),\n",
    "                     'nt'  : omx.open_file(base_tt_nt, 'r') }"
   ]
  },
  {
   "cell_type": "code",
   "execution_count": null,
   "id": "clinical-plaza",
   "metadata": {},
   "outputs": [],
   "source": [
    "# trip tables OMX file (matrices) for comparison scenario\n",
    "comp_tt_am = comp_tt_dir + 'AfterSC_Final_AM_Tables.omx'\n",
    "comp_tt_md = comp_tt_dir + 'AfterSC_Final_MD_Tables.omx'\n",
    "comp_tt_pm = comp_tt_dir + 'AfterSC_Final_PM_Tables.omx'\n",
    "comp_tt_nt = comp_tt_dir + 'AfterSC_Final_NT_Tables.omx'\n",
    "comp_trip_tables = { 'am' :  omx.open_file(comp_tt_am, 'r'),\n",
    "                     'md' :  omx.open_file(comp_tt_pm, 'r'),\n",
    "                     'pm' :  omx.open_file(comp_tt_pm,'r'),\n",
    "                     'nt'  : omx.open_file(comp_tt_nt, 'r') }"
   ]
  },
  {
   "cell_type": "code",
   "execution_count": null,
   "id": "loaded-florist",
   "metadata": {},
   "outputs": [],
   "source": [
    "num_tazes = base_trip_tables['am'].shape()[0]"
   ]
  },
  {
   "cell_type": "code",
   "execution_count": null,
   "id": "upper-franchise",
   "metadata": {},
   "outputs": [],
   "source": [
    "# Mapping from TAZ-ID to OMX index for the 4 periods.\n",
    "# These *should* be the same regardless of time period.\n",
    "taz_to_omxid_am = base_trip_tables['am'].mapping('ID')\n",
    "taz_to_omxid_am = base_trip_tables['md'].mapping('ID')\n",
    "taz_to_omxid_pm = base_trip_tables['pm'].mapping('ID')\n",
    "taz_to_omxid_nt = base_trip_tables['nt'].mapping('ID')\n",
    "# Moreover, they should be the same across the two scenarios.\n",
    "# We'll assume that the mapping from TAZ ID to OMX ID doesn't vary by time period or between scenarios.\n",
    "# We'll use the AM mapping from the base scenario as _the_ mapping for all time periods, pending confirmation.\n",
    "#\n",
    "# *** TBD: Insert \"sanity check\" that all 8 mappings are identical\n",
    "#\n",
    "taz_to_omxid = taz_to_omxid_am"
   ]
  },
  {
   "cell_type": "code",
   "execution_count": null,
   "id": "patient-aquarium",
   "metadata": {},
   "outputs": [],
   "source": [
    "# Function tt_total_for_mode\n",
    "#\n",
    "# Summary: Return the total travel demand, over all i and j, from TAZ[i] to TAZ[j] for the specified mode.\n",
    "#\n",
    "# Given the OMX trip tables for the 4 time periods and a mode,\n",
    "# return an numpy array with the \"numpy sum\" of the data in the OMX array for the 4 time periods.\n",
    "def tt_total_for_mode(tts, mode):\n",
    "\tam = tts['am'][mode]\n",
    "\tmd = tts['md'][mode]\n",
    "\tpm = tts['pm'][mode]\n",
    "\tnt =  tts['nt'][mode]\n",
    "\t# Convert OMX arrays into numpy arrays\n",
    "\tam_np = np.array(am)\n",
    "\tmd_np = np.array(md)\n",
    "\tpm_np = np.array(pm)\n",
    "\tnt_np = np.array(nt)\n",
    "\ttotal = am_np + md_np + pm_np + nt_np\n",
    "\treturn total\n",
    "# end_def tt_total_for_mode"
   ]
  },
  {
   "cell_type": "code",
   "execution_count": null,
   "id": "intelligent-maintenance",
   "metadata": {},
   "outputs": [],
   "source": [
    "# Function to generate the calculation to total demand for a list of modes.\n",
    "# Return a dictionary containing the total demand for each mode, with the key value == the mode name\n",
    "def tt_totals_for_mode_list(tts, mode_list):\n",
    "    retval = {}\n",
    "    for mode in mode_list:\n",
    "        temp = tt_total_for_mode(tts, mode)\n",
    "        retval[mode] = temp\n",
    "    #\n",
    "    return retval\n",
    "# end_def tt_total_for_mode_list"
   ]
  },
  {
   "cell_type": "code",
   "execution_count": null,
   "id": "flying-finding",
   "metadata": {},
   "outputs": [],
   "source": [
    "# Truck mode - base scenario\n",
    "base_all_truck = tt_totals_for_mode_list(base_trip_tables, ['Heavy_Truck', 'Heavy_Truck_HazMat', \n",
    "                                                  'Medium_Truck', 'Medium_Truck_HazMat', 'Light_Truck'])\n",
    "base_heavy = base_all_truck['Heavy_Truck']\n",
    "base_heavy_haz = base_all_truck['Heavy_Truck_HazMat']\n",
    "base_medium = base_all_truck['Medium_Truck']\n",
    "base_medium_haz = base_all_truck['Medium_Truck_HazMat']\n",
    "base_light = base_all_truck['Light_Truck']\n",
    "base_heavy_total = base_heavy.sum(axis=1)\n",
    "base_heavy_haz_total = base_heavy_haz.sum(axis=1)\n",
    "base_medium_total = base_medium.sum(axis=1)\n",
    "base_medium_haz_total = base_medium_haz.sum(axis=1)\n",
    "base_light_total = base_light.sum(axis=1)\n",
    "# Grand total for the 'truck' mode\n",
    "base_truck_total = base_heavy_total + base_heavy_haz_total + base_medium_total + base_medium_haz_total + base_light_total"
   ]
  },
  {
   "cell_type": "code",
   "execution_count": null,
   "id": "helpful-worse",
   "metadata": {},
   "outputs": [],
   "source": [
    "# Truck mode - comparison scenario\n",
    "comp_all_truck = tt_totals_for_mode_list(comp_trip_tables, ['Heavy_Truck', 'Heavy_Truck_HazMat', \n",
    "                                                  'Medium_Truck', 'Medium_Truck_HazMat', 'Light_Truck'])\n",
    "comp_heavy = comp_all_truck['Heavy_Truck']\n",
    "comp_heavy_haz = comp_all_truck['Heavy_Truck_HazMat']\n",
    "comp_medium = comp_all_truck['Medium_Truck']\n",
    "comp_medium_haz = comp_all_truck['Medium_Truck_HazMat']\n",
    "comp_light = comp_all_truck['Light_Truck']\n",
    "comp_heavy_total = comp_heavy.sum(axis=1)\n",
    "comp_heavy_haz_total = comp_heavy_haz.sum(axis=1)\n",
    "comp_medium_total = comp_medium.sum(axis=1)\n",
    "comp_medium_haz_total = comp_medium_haz.sum(axis=1)\n",
    "comp_light_total = comp_light.sum(axis=1)\n",
    "# Grand total for the 'truck' mode\n",
    "comp_truck_total = comp_heavy_total + comp_heavy_haz_total + comp_medium_total + comp_medium_haz_total + comp_light_total"
   ]
  },
  {
   "cell_type": "code",
   "execution_count": null,
   "id": "departmental-ready",
   "metadata": {},
   "outputs": [],
   "source": [
    "# Compute delta between scenarios\n",
    "delta_total_truck = comp_truck_total - base_truck_total"
   ]
  },
  {
   "cell_type": "code",
   "execution_count": null,
   "id": "weighted-chess",
   "metadata": {},
   "outputs": [],
   "source": [
    "# Build a data frame, indexed by omxid, \n",
    "# containing the delta (between the 2 scenarios) of the total truck trips originating in each TAZ:\n",
    "delta_total_truck_trips_df = pd.DataFrame(delta_total_truck, columns=['delta_total_truck'])\n",
    "# Set the data frame's index to the omxid of each row, i.e., its index\n",
    "delta_total_truck_trips_df['omxid'] = delta_total_truck_trips_df.index\n",
    "delta_total_truck_trips_df.set_index('omxid')"
   ]
  },
  {
   "cell_type": "code",
   "execution_count": null,
   "id": "former-williams",
   "metadata": {},
   "outputs": [],
   "source": [
    "# Load the candidate canonical TAZ shapefile as a geopands dataframe.\n",
    "taz_shapefile = taz_shapefile_base_dir + 'candidate_CTPS_TAZ_STATEWIDE_2019_wgs84.shp'\n",
    "taz_gdf = gp.read_file(taz_shapefile)\n",
    "taz_gdf.set_index(\"id\")"
   ]
  },
  {
   "cell_type": "code",
   "execution_count": null,
   "id": "american-shannon",
   "metadata": {},
   "outputs": [],
   "source": [
    "# Add a 'omxid' column to the TAZ geodataframe, in prep for joining with the total trips dataframes.\n",
    "# ==> This also can be done earlier.\n",
    "taz_gdf['omxid'] = taz_gdf.apply(lambda row: taz_to_omxid[row.id], axis=1)"
   ]
  },
  {
   "cell_type": "code",
   "execution_count": null,
   "id": "allied-fifteen",
   "metadata": {},
   "outputs": [],
   "source": [
    "# Join the shapefile geodataframe to the total trips dataframe on 'omxid'\n",
    "joined_df = taz_gdf.join(delta_total_truck_trips_df.set_index('omxid'), on='omxid')"
   ]
  },
  {
   "cell_type": "code",
   "execution_count": null,
   "id": "herbal-license",
   "metadata": {},
   "outputs": [],
   "source": [
    "# Make a static map of total auto trips by origin TAZ\n",
    "joined_df.plot(\"delta_total_truck\", figsize=(10.0,8.0), cmap='plasma', legend=True)\n",
    "plt.title('Change in Total Truck Trips by Origin TAZ')"
   ]
  },
  {
   "cell_type": "code",
   "execution_count": null,
   "id": "adjusted-suspension",
   "metadata": {},
   "outputs": [],
   "source": [
    "# Make an interactive map of the above\n",
    "joined_df.hvplot(c='delta_total_truck', geo=True, hover_cols=['id', 'town', 'delta_total_truck'], \n",
    "                 clabel='Change in Total Truck Trips', cmap='plasma').opts(title='Change in Total Truck Trips by Origin TAZ')"
   ]
  },
  {
   "cell_type": "code",
   "execution_count": null,
   "id": "ruled-swing",
   "metadata": {},
   "outputs": [],
   "source": []
  }
 ],
 "metadata": {
  "kernelspec": {
   "display_name": "Python [conda env:.conda-base_py37_omx_gp_hvplot]",
   "language": "python",
   "name": "conda-env-.conda-base_py37_omx_gp_hvplot-py"
  },
  "language_info": {
   "codemirror_mode": {
    "name": "ipython",
    "version": 3
   },
   "file_extension": ".py",
   "mimetype": "text/x-python",
   "name": "python",
   "nbconvert_exporter": "python",
   "pygments_lexer": "ipython3",
   "version": "3.7.10"
  }
 },
 "nbformat": 4,
 "nbformat_minor": 5
}
