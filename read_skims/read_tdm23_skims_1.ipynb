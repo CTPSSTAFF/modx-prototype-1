{
 "cells": [
  {
   "cell_type": "markdown",
   "id": "alternate-question",
   "metadata": {},
   "source": [
    "## Notebook to prototype reading and loading of TDM23 \"skim\" data"
   ]
  },
  {
   "cell_type": "code",
   "execution_count": null,
   "id": "adolescent-independence",
   "metadata": {},
   "outputs": [],
   "source": [
    "# Notebook to prototype reading of TDM23 \"skim\" data\n",
    "\n",
    "import openmatrix as omx\n",
    "import numpy as np\n",
    "import pandas as pd\n",
    "import geopandas as gp\n",
    "import matplotlib.pyplot as plt"
   ]
  },
  {
   "cell_type": "code",
   "execution_count": null,
   "id": "unlimited-richards",
   "metadata": {},
   "outputs": [],
   "source": [
    "%matplotlib notebook"
   ]
  },
  {
   "cell_type": "markdown",
   "id": "60a61133",
   "metadata": {},
   "source": [
    "### User input required: Specify paths to input and output directories in config.py file"
   ]
  },
  {
   "cell_type": "code",
   "execution_count": null,
   "id": "1f2d20af",
   "metadata": {},
   "outputs": [],
   "source": [
    "%run \"S:/jupyter_notebooks/config.py\""
   ]
  },
  {
   "cell_type": "markdown",
   "id": "c50ff105",
   "metadata": {},
   "source": [
    "### The skim OMXs are found in:\n",
    "### //lilliput/groups/Data_Resources/modx/sample_tdm23skims/"
   ]
  },
  {
   "cell_type": "markdown",
   "id": "d0884fe3",
   "metadata": {},
   "source": [
    "### Consequently, the following pathnames are valid only for this prototyping exercise"
   ]
  },
  {
   "cell_type": "code",
   "execution_count": null,
   "id": "alien-image",
   "metadata": {},
   "outputs": [],
   "source": [
    "# 'Root' directories for skim files\n",
    "skims_root_dir = reference_data_dir + r'\\sample_tdm23_skims'\n",
    "highway_skims_dir = skims_root_dir\n",
    "transit_skims_dir = skims_root_dir"
   ]
  },
  {
   "cell_type": "code",
   "execution_count": null,
   "id": "dec5fd62",
   "metadata": {},
   "outputs": [],
   "source": [
    "highway_skim_am_omxfn = highway_skims_dir + r'\\highway_skim_am.omx'\n",
    "highway_skim_md_omxfn = highway_skims_dir + r'\\highway_skim_md.omx'"
   ]
  },
  {
   "cell_type": "code",
   "execution_count": null,
   "id": "948573cf",
   "metadata": {},
   "outputs": [],
   "source": [
    "transit_skim_auto_am_omxfn = transit_skims_dir + r'\\transit_skim_auto_am.omx'\n",
    "transit_skim_walk_am_omxfn = transit_skims_dir + r'\\transit_skim_walk_am.omx'\n",
    "transit_skim_auto_md_omxfn = transit_skims_dir + r'\\transit_skim_auto_md.omx'\n",
    "transit_skim_walk_md_omxfn = transit_skims_dir + r'\\transit_skim_walk_md.omx'"
   ]
  },
  {
   "cell_type": "code",
   "execution_count": null,
   "id": "13161d2a",
   "metadata": {},
   "outputs": [],
   "source": [
    "highway_skim_am = omx.open_file(highway_skim_am_omxfn,'r')\n",
    "highway_skim_md = omx.open_file(highway_skim_md_omxfn,'r')"
   ]
  },
  {
   "cell_type": "code",
   "execution_count": null,
   "id": "93748ad9",
   "metadata": {},
   "outputs": [],
   "source": [
    "transit_skim_auto_am = omx.open_file(transit_skim_auto_am_omxfn,'r')\n",
    "transit_skim_auto_md = omx.open_file(transit_skim_auto_md_omxfn,'r')\n",
    "transit_skim_walk_am = omx.open_file(transit_skim_walk_am_omxfn,'r')\n",
    "transit_skim_walk_md = omx.open_file(transit_skim_walk_md_omxfn,'r')"
   ]
  },
  {
   "cell_type": "code",
   "execution_count": null,
   "id": "c58fffc7",
   "metadata": {},
   "outputs": [],
   "source": [
    "# highway_skim_am\n",
    "highway_skim_am.list_matrices()"
   ]
  },
  {
   "cell_type": "code",
   "execution_count": null,
   "id": "d24581a6",
   "metadata": {},
   "outputs": [],
   "source": [
    "temp = highway_skim_am['dist']\n",
    "foo = np.array(temp)"
   ]
  },
  {
   "cell_type": "code",
   "execution_count": null,
   "id": "8960e657",
   "metadata": {},
   "outputs": [],
   "source": [
    "# highway_skim_md\n",
    "temp = highway_skim_md['dist']\n",
    "foo = np.array(temp)"
   ]
  },
  {
   "cell_type": "code",
   "execution_count": null,
   "id": "c2728af5",
   "metadata": {},
   "outputs": [],
   "source": [
    "# transit_skim_auto_am\n",
    "transit_skim_auto_am.list_matrices()"
   ]
  },
  {
   "cell_type": "code",
   "execution_count": null,
   "id": "c677c297",
   "metadata": {},
   "outputs": [],
   "source": [
    "temp = transit_skim_auto_am['ddist']\n",
    "foo = np.array(temp)"
   ]
  },
  {
   "cell_type": "code",
   "execution_count": null,
   "id": "964162d5",
   "metadata": {},
   "outputs": [],
   "source": [
    "# transit_skim_auto_md\n",
    "temp = transit_skim_auto_md['ddist']\n",
    "foo = np.array(temp)"
   ]
  },
  {
   "cell_type": "code",
   "execution_count": null,
   "id": "185354f7",
   "metadata": {},
   "outputs": [],
   "source": [
    "# transit_skim_walk_am\n",
    "transit_skim_walk_am.list_matrices()"
   ]
  },
  {
   "cell_type": "code",
   "execution_count": null,
   "id": "497f1ce9",
   "metadata": {},
   "outputs": [],
   "source": [
    "temp = transit_skim_walk_am['walk']\n",
    "foo = np.array(temp)"
   ]
  },
  {
   "cell_type": "code",
   "execution_count": null,
   "id": "63f4bbd2",
   "metadata": {},
   "outputs": [],
   "source": [
    "# transit_skim_walk_md\n",
    "temp = transit_skim_walk_md['walk']\n",
    "foo = np.array(temp)"
   ]
  },
  {
   "cell_type": "code",
   "execution_count": null,
   "id": "03bd9bd4",
   "metadata": {},
   "outputs": [],
   "source": []
  }
 ],
 "metadata": {
  "kernelspec": {
   "display_name": "Python [conda env:.conda-modx_proto1] *",
   "language": "python",
   "name": "conda-env-.conda-modx_proto1-py"
  },
  "language_info": {
   "codemirror_mode": {
    "name": "ipython",
    "version": 3
   },
   "file_extension": ".py",
   "mimetype": "text/x-python",
   "name": "python",
   "nbconvert_exporter": "python",
   "pygments_lexer": "ipython3",
   "version": "3.7.11"
  }
 },
 "nbformat": 4,
 "nbformat_minor": 5
}
