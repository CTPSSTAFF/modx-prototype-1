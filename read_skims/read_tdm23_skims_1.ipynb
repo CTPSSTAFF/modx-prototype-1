{
 "cells": [
  {
   "cell_type": "markdown",
   "id": "alternate-question",
   "metadata": {},
   "source": [
    "## Notebook to prototype reading and loading of TDM23 \"skim\" data"
   ]
  },
  {
   "cell_type": "code",
   "execution_count": null,
   "id": "adolescent-independence",
   "metadata": {},
   "outputs": [],
   "source": [
    "# Notebook to prototype reading of TDM23 \"skim\" data\n",
    "\n",
    "import openmatrix as omx\n",
    "import numpy as np\n",
    "import pandas as pd\n",
    "import geopandas as gp\n",
    "import matplotlib.pyplot as plt"
   ]
  },
  {
   "cell_type": "code",
   "execution_count": null,
   "id": "unlimited-richards",
   "metadata": {},
   "outputs": [],
   "source": [
    "%matplotlib notebook"
   ]
  },
  {
   "cell_type": "markdown",
   "id": "60a61133",
   "metadata": {},
   "source": [
    "### User input required: Specify paths to input and output directories in config.py file"
   ]
  },
  {
   "cell_type": "code",
   "execution_count": null,
   "id": "1f2d20af",
   "metadata": {},
   "outputs": [],
   "source": [
    "%run \"S:/jupyter_notebooks/config.py\""
   ]
  },
  {
   "cell_type": "markdown",
   "id": "c50ff105",
   "metadata": {},
   "source": [
    "### The skim OMXs are found in:\n",
    "### //lilliput/groups/Data_Resources/modx/sample_tdm23skims/"
   ]
  },
  {
   "cell_type": "markdown",
   "id": "d0884fe3",
   "metadata": {},
   "source": [
    "### Consequently, the following pathnames are valid only for this prototyping exercise"
   ]
  },
  {
   "cell_type": "code",
   "execution_count": null,
   "id": "alien-image",
   "metadata": {},
   "outputs": [],
   "source": [
    "# 'Root' directories for skim files\n",
    "skims_root_dir = reference_data_dir + r'\\sample_tdm23_skims'\n",
    "highway_skims_dir = skims_root_dir\n",
    "transit_skims_dir = skims_root_dir"
   ]
  },
  {
   "cell_type": "code",
   "execution_count": null,
   "id": "dec5fd62",
   "metadata": {},
   "outputs": [],
   "source": [
    "highway_skim_am_omxfn = highway_skims_dir + r'\\highway_skim_am.omx'\n",
    "highway_skim_md_omxfn = highway_skims_dir + r'\\highway_skim_md.omx'"
   ]
  },
  {
   "cell_type": "code",
   "execution_count": null,
   "id": "948573cf",
   "metadata": {},
   "outputs": [],
   "source": [
    "transit_skim_auto_am_omxfn = transit_skims_dir + r'\\transit_skim_auto_am.omx'\n",
    "transit_skim_walk_am_omxfn = transit_skims_dir + r'\\transit_skim_walk_am.omx'\n",
    "transit_skim_auto_md_omxfn = transit_skims_dir + r'\\transit_skim_auto_md.omx'\n",
    "transit_skim_walk_md_omxfn = transit_skims_dir + r'\\transit_skim_walk_md.omx'"
   ]
  },
  {
   "cell_type": "code",
   "execution_count": null,
   "id": "13161d2a",
   "metadata": {},
   "outputs": [],
   "source": [
    "highway_skim_am = omx.open_file(highway_skim_am_omxfn,'r')\n",
    "highway_skim_md = omx.open_file(highway_skim_md_omxfn,'r')"
   ]
  },
  {
   "cell_type": "code",
   "execution_count": null,
   "id": "93748ad9",
   "metadata": {},
   "outputs": [],
   "source": [
    "transit_skim_auto_am = omx.open_file(transit_skim_auto_am_omxfn,'r')\n",
    "transit_skim_auto_md = omx.open_file(transit_skim_auto_md_omxfn,'r')\n",
    "transit_skim_walk_am = omx.open_file(transit_skim_walk_am_omxfn,'r')\n",
    "transit_skim_walk_md = omx.open_file(transit_skim_walk_md_omxfn,'r')"
   ]
  },
  {
   "cell_type": "code",
   "execution_count": null,
   "id": "c58fffc7",
   "metadata": {},
   "outputs": [],
   "source": [
    "# highway_skim_am\n",
    "highway_skim_am.list_matrices()"
   ]
  },
  {
   "cell_type": "code",
   "execution_count": null,
   "id": "d24581a6",
   "metadata": {},
   "outputs": [],
   "source": [
    "temp = highway_skim_am['dist']\n",
    "foo = np.array(temp)"
   ]
  },
  {
   "cell_type": "code",
   "execution_count": null,
   "id": "8960e657",
   "metadata": {},
   "outputs": [],
   "source": [
    "# highway_skim_md\n",
    "temp = highway_skim_md['dist']\n",
    "foo = np.array(temp)"
   ]
  },
  {
   "cell_type": "code",
   "execution_count": null,
   "id": "c2728af5",
   "metadata": {},
   "outputs": [],
   "source": [
    "# transit_skim_auto_am\n",
    "transit_skim_auto_am.list_matrices()"
   ]
  },
  {
   "cell_type": "code",
   "execution_count": null,
   "id": "c677c297",
   "metadata": {},
   "outputs": [],
   "source": [
    "temp = transit_skim_auto_am['ddist']\n",
    "foo = np.array(temp)"
   ]
  },
  {
   "cell_type": "code",
   "execution_count": null,
   "id": "964162d5",
   "metadata": {},
   "outputs": [],
   "source": [
    "# transit_skim_auto_md\n",
    "temp = transit_skim_auto_md['ddist']\n",
    "foo = np.array(temp)"
   ]
  },
  {
   "cell_type": "code",
   "execution_count": null,
   "id": "185354f7",
   "metadata": {},
   "outputs": [],
   "source": [
    "# transit_skim_walk_am\n",
    "transit_skim_walk_am.list_matrices()"
   ]
  },
  {
   "cell_type": "code",
   "execution_count": null,
   "id": "497f1ce9",
   "metadata": {},
   "outputs": [],
   "source": [
    "temp = transit_skim_walk_am['walk']\n",
    "foo = np.array(temp)"
   ]
  },
  {
   "cell_type": "code",
   "execution_count": null,
   "id": "2a690b42",
   "metadata": {},
   "outputs": [],
   "source": [
    "# transit_skim_walk_md\n",
    "temp = transit_skim_walk_md['walk']\n",
    "foo = np.array(temp)"
   ]
  },
  {
   "cell_type": "code",
   "execution_count": null,
   "id": "4024105b",
   "metadata": {},
   "outputs": [],
   "source": []
  },
  {
   "cell_type": "code",
   "execution_count": null,
   "id": "b7856e53",
   "metadata": {},
   "outputs": [],
   "source": [
    "class SkimsMgr():\n",
    "    \"\"\" \n",
    "    Class for \"skims\" utilities\n",
    "    \"\"\"\n",
    "    \n",
    "    _skim_periods = [ 'am', 'md' ]\n",
    "    _highway_skim_matrices = [ 'da_time', 'da_toll', 'dist', 'sr_time', 'sr_toll' ]\n",
    "    _walk_matrices = [ 'dist', 'walk_time' ]\n",
    "    _bike_matrices = [ 'dist', 'bike_time' ]\n",
    "    _transit_auto_skim_matrices = [ 'Fare', 'auto_cost', 'ddist', 'dtime', 'gen_cost', \n",
    "                                    'ivtt', 'iwait', 'tdist', 'walk' , 'xfer', 'xwait' ]\n",
    "    _transit_walk_skim_matrices = [ 'Fare', 'gen_cost', \n",
    "                                'ivtt', 'iwait', 'tdist', 'walk' , 'xfer', 'xwait' ]\n",
    "    \n",
    "    def __init__(self):\n",
    "        pass\n",
    "    #\n",
    "    \n",
    "    def load_highway_skims(self, skims_dir, periods=_skim_periods, matrices=_highway_skim_matrices):\n",
    "        retval = {  'am' : {    'da_time' : None,\n",
    "                                'da_toll' : None,\n",
    "                                'dist'    : None,\n",
    "                                'sr_time' : None,\n",
    "                                'sr_toll' : None\n",
    "                            },\n",
    "                    'md' : {    'da_time' : None,\n",
    "                                'da_toll' : None,\n",
    "                                'dist'    : None,\n",
    "                                'sr_time' : None,\n",
    "                                'sr_toll' : None\n",
    "                            }\n",
    "                }\n",
    "        for period in periods:\n",
    "            omxfn = skims_dir + r'\\highway_skim_' + period + '.omx'\n",
    "            skim_omx = omx.open_file(omxfn,'r')\n",
    "            for matrix in matrices:\n",
    "                retval[period][matrix] = skim_omx[matrix]\n",
    "            # end inner for\n",
    "        # end outer for\n",
    "        return retval\n",
    "    # end_def load_highway_skims\n",
    "    \n",
    "    def load_walk_skims(self, skims_dir, matrices=_walk_matrices):\n",
    "        retval = {  'dist'      : None,\n",
    "                    'walk_time' : None\n",
    "                }\n",
    "        omxfn = skims_dir + r'\\walk_skim_.omx'\n",
    "        skim_omx = omx.open_file(omxfn,'r')\n",
    "        for matrix in matrices:\n",
    "            retval[matrix] = skim_omx[matrix]\n",
    "        # end_for\n",
    "        return retval\n",
    "    # end_def\n",
    "    \n",
    "    def load_bike_skims(self, skims_dir, matrices=_bike_matrices):\n",
    "        retval = {  'dist'      : None,\n",
    "                    'bike_time' : None\n",
    "                }\n",
    "        omxfn = skims_dir + r'\\bike_skim_.omx'\n",
    "        skim_omx = omx.open_file(omxfn,'r')\n",
    "        for matrix in matrices:\n",
    "            retval[matrix] = skim_omx[matrix]\n",
    "        # end_for\n",
    "        return retval\n",
    "    # end_def\n",
    "   \n",
    "    def load_transit_auto_skims(self, skims_dir, periods=_skim_periods, matrices=_transit_auto_skim_matrices):\n",
    "        retval = {  'am' : {    'Fare'      : None,\n",
    "                                'auto_cost' : None,\n",
    "                                'ddist_dist': None,\n",
    "                                'dtime'     : None,\n",
    "                                'gen_cost'  : None,\n",
    "                                'ivtt'      : None,\n",
    "                                'iwait'     : None,\n",
    "                                'tdist'     : None,\n",
    "                                'walk'      : None,\n",
    "                                'xfer'      : None,\n",
    "                                'xwait'     : None\n",
    "                            },\n",
    "                    'md' : {    'Fare'      : None,\n",
    "                                'auto_cost' : None,\n",
    "                                'ddist_dist': None,\n",
    "                                'dtime'     : None,\n",
    "                                'gen_cost'  : None,\n",
    "                                'ivtt'      : None,\n",
    "                                'iwait'     : None,\n",
    "                                'tdist'     : None,\n",
    "                                'walk'      : None,\n",
    "                                'xfer'      : None,\n",
    "                                'xwait'     : None\n",
    "                            }\n",
    "                }\n",
    "        for period in periods:\n",
    "            omxfn = skims_dir + r'\\transit_skim_auto_' + period + '.omx'\n",
    "            skim_omx = omx.open_file(omxfn,'r')\n",
    "            for matrix in matrices:\n",
    "                retval[period][matrix] = skim_omx[matrix]\n",
    "            # end inner for\n",
    "        # end outer for\n",
    "        return retval\n",
    "    # end_def\n",
    "    \n",
    "    def load_transit_walk_skims(self, skims_dir, periods=_skim_periods, matrices=_transit_walk_skim_matrices):\n",
    "        retval = {  'am' : {    'Fare'      : None,\n",
    "                                'gen_cost'  : None,\n",
    "                                'ivtt'      : None,\n",
    "                                'iwait'     : None,\n",
    "                                'walk'      : None,\n",
    "                                'xfer'      : None,\n",
    "                                'xwait'     : None\n",
    "                            },\n",
    "                    'md' : {    'Fare'      : None,\n",
    "                                'gen_cost'  : None,\n",
    "                                'ivtt'      : None,\n",
    "                                'iwait'     : None,\n",
    "                                'walk'      : None,\n",
    "                                'xfer'      : None,\n",
    "                                'xwait'     : None\n",
    "                            }\n",
    "                }\n",
    "        for period in periods:\n",
    "            omxfn = skims_dir + r'\\transit_skim_walk_' + period + '.omx'\n",
    "            skim_omx = omx.open_file(omxfn,'r')\n",
    "            for matrix in matrices:\n",
    "                retval[period][matrix] = skim_omx[matrix]\n",
    "            # end inner for\n",
    "        # end outer for\n",
    "        return retval\n",
    "    # end_def\n",
    "# end_class"
   ]
  },
  {
   "cell_type": "code",
   "execution_count": null,
   "id": "b4ffe027",
   "metadata": {},
   "outputs": [],
   "source": [
    "smgr = SkimsMgr()"
   ]
  },
  {
   "cell_type": "code",
   "execution_count": null,
   "id": "2399932b",
   "metadata": {},
   "outputs": [],
   "source": [
    "hwy = smgr.load_highway_skims(skims_root_dir)\n",
    "tr_auto = smgr.load_transit_auto_skims(skims_root_dir)\n",
    "tr_walk = smgr.load_transit_walk_skims(skims_root_dir)"
   ]
  },
  {
   "cell_type": "code",
   "execution_count": null,
   "id": "6a95e158",
   "metadata": {},
   "outputs": [],
   "source": []
  }
 ],
 "metadata": {
  "kernelspec": {
   "display_name": "Python [conda env:.conda-modx_proto1] *",
   "language": "python",
   "name": "conda-env-.conda-modx_proto1-py"
  },
  "language_info": {
   "codemirror_mode": {
    "name": "ipython",
    "version": 3
   },
   "file_extension": ".py",
   "mimetype": "text/x-python",
   "name": "python",
   "nbconvert_exporter": "python",
   "pygments_lexer": "ipython3",
   "version": "3.7.11"
  }
 },
 "nbformat": 4,
 "nbformat_minor": 5
}
