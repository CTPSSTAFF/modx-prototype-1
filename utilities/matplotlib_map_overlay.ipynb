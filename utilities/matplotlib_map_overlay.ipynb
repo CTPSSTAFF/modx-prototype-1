{
 "cells": [
  {
   "cell_type": "code",
   "execution_count": null,
   "id": "487c2784",
   "metadata": {},
   "outputs": [],
   "source": [
    "# Notebook to display data for selected highway links flow, V/C, and speeds\n",
    "# each as a static map layer overlayed on top of a map of Massachusetts towns\n",
    "# using the matplotlib library.\n",
    "# \n",
    "# Tabular data was previously calculated by sample_highway_links_report.ipypnb, and saved in CSV format.\n",
    "#\n",
    "import openmatrix as omx\n",
    "import numpy as np\n",
    "import pandas as pd\n",
    "import geopandas as gp\n",
    "import matplotlib.pyplot as plt"
   ]
  },
  {
   "cell_type": "code",
   "execution_count": null,
   "id": "6b42b462",
   "metadata": {},
   "outputs": [],
   "source": [
    "%matplotlib notebook"
   ]
  },
  {
   "cell_type": "code",
   "execution_count": null,
   "id": "aa18c98e",
   "metadata": {},
   "outputs": [],
   "source": [
    "# Directory in which user's output CSV report data was saved - it will now be our *input* directory\n",
    "my_sandbox_dir = r'S:/my_modx_output_dir/'"
   ]
  },
  {
   "cell_type": "code",
   "execution_count": null,
   "id": "582f9d17",
   "metadata": {},
   "outputs": [],
   "source": [
    "# Name of CSV file with volume, V/C, and speed data for selected links - it will now be our *input* CSV file\n",
    "csv_fn = 'links_report_base_scenario.csv'"
   ]
  },
  {
   "cell_type": "code",
   "execution_count": null,
   "id": "70a85354",
   "metadata": {},
   "outputs": [],
   "source": [
    "# Fully-qualified pathname to CSV file\n",
    "fq_csv_fn = my_sandbox_dir + csv_fn"
   ]
  },
  {
   "cell_type": "code",
   "execution_count": null,
   "id": "a45aca4c",
   "metadata": {},
   "outputs": [],
   "source": [
    "links_data_df = pd.read_csv(fq_csv_fn, delimiter=',')"
   ]
  },
  {
   "cell_type": "code",
   "execution_count": null,
   "id": "dd8c0945",
   "metadata": {},
   "outputs": [],
   "source": [
    "links_data_df"
   ]
  },
  {
   "cell_type": "code",
   "execution_count": null,
   "id": "7f1308fc",
   "metadata": {},
   "outputs": [],
   "source": [
    "# List of the IDs for the model network links for which data is reported in the input CSV file\n",
    "links_list = links_data_df['ID1'].to_list()"
   ]
  },
  {
   "cell_type": "code",
   "execution_count": null,
   "id": "fa670796",
   "metadata": {},
   "outputs": [],
   "source": [
    "# Directory in which the spatial data for the model network links is stored (both shapefile and GeoJSON formats)\n",
    "links_spatial_data_dir = r'G:/Data_Resources/modx/statewide_links_shapefile/'"
   ]
  },
  {
   "cell_type": "code",
   "execution_count": null,
   "id": "a38bed9b",
   "metadata": {},
   "outputs": [],
   "source": [
    "# Load the links shapefile into a geopandas dataframe \n",
    "# NOTE: This version of the shapefile is in EPSG4326, i.e., WGS84\n",
    "links_shapefile_fn = 'Statewide_Links_2018_BK_EPSG4326.shp'\n",
    "fq_links_shapefile_fn = links_spatial_data_dir + links_shapefile_fn\n",
    "links_gdf = gp.read_file(fq_links_shapefile_fn)\n",
    "links_gdf.set_index(\"ID\")"
   ]
  },
  {
   "cell_type": "code",
   "execution_count": null,
   "id": "986256d4",
   "metadata": {},
   "outputs": [],
   "source": [
    "# Filter the links geodataframe to only the links of interest\n",
    "filtered_links_gdf = links_gdf[links_gdf['ID'].isin(links_list)] "
   ]
  },
  {
   "cell_type": "code",
   "execution_count": null,
   "id": "5856dd79",
   "metadata": {},
   "outputs": [],
   "source": [
    "filtered_links_gdf"
   ]
  },
  {
   "cell_type": "code",
   "execution_count": null,
   "id": "5219b7b2",
   "metadata": {},
   "outputs": [],
   "source": [
    "# Join the geo-data frame for the links with the \"links_data_df\", which contains the computed data about these links\n",
    "join_df = filtered_links_gdf.join(links_data_df.set_index(\"ID1\"), on=\"ID\")"
   ]
  },
  {
   "cell_type": "code",
   "execution_count": null,
   "id": "61fa1000",
   "metadata": {},
   "outputs": [],
   "source": [
    "join_df"
   ]
  },
  {
   "cell_type": "code",
   "execution_count": null,
   "id": "peaceful-gregory",
   "metadata": {},
   "outputs": [],
   "source": [
    "# Return the bounding box of all the features in a geo-dataframe.\n",
    "# The bounding box is returned as a dictionary with the following keys: { 'minx', 'miny', 'maxx', 'maxy'}.\n",
    "#\n",
    "def bbox_of_gdf(gdf):\n",
    "    bounds_tuples = gdf['geometry'].map(lambda x: x.bounds)\n",
    "    bounds_dicts = []\n",
    "    for t in bounds_tuples:\n",
    "        temp = { 'minx' : t[0], 'miny' : t[1], 'maxx' : t[2], 'maxy' : t[3] }\n",
    "        bounds_dicts.append(temp)\n",
    "    # end_for\n",
    "    bounds_df = pd.DataFrame(bounds_dicts)\n",
    "    minx = bounds_df['minx'].min()\n",
    "    miny = bounds_df['miny'].min()\n",
    "    maxx = bounds_df['maxx'].max()\n",
    "    maxy = bounds_df['maxy'].max()\n",
    "    retval = { 'minx' : minx, 'miny' : miny, 'maxx' : maxx, 'maxy' : maxy }\n",
    "    return retval\n",
    "# end_def bbox_of_gdf()\n",
    "\n",
    "# Given a dictonary of the form  'minx', 'miny', 'maxx', 'maxy'} representing a geographic bounding box,\n",
    "# return the center point as a dictionary with the keys { 'x' , 'y' }.\n",
    "def center_of_bbox(bbox):\n",
    "    center_x = bbox['minx'] + (bbox['maxx'] - bbox['minx']) / 2\n",
    "    center_y = bbox['miny'] + (bbox['maxy'] - bbox['miny']) / 2\n",
    "    retval = { 'x' : center_x, 'y' : center_y }\n",
    "    return retval\n",
    "# end_def center_of_bbox()"
   ]
  },
  {
   "cell_type": "code",
   "execution_count": null,
   "id": "silver-difference",
   "metadata": {},
   "outputs": [],
   "source": [
    "# Get the bounding box of the selected links\n",
    "bbox = bbox_of_gdf(join_df)"
   ]
  },
  {
   "cell_type": "code",
   "execution_count": null,
   "id": "african-forestry",
   "metadata": {},
   "outputs": [],
   "source": [
    "# Get the center point of that bbox\n",
    "center_pt = center_of_bbox(bbox)"
   ]
  },
  {
   "cell_type": "code",
   "execution_count": null,
   "id": "210cb9ee",
   "metadata": {},
   "outputs": [],
   "source": [
    "# Plot (i.e., map) extent for matplotlib.\n",
    "# The extent for matplotlib is defined as [minx, maxx, miny, maxy]\n",
    "matplotlib_extent = [ bbox['minx'], bbox['maxx'], bbox['miny'], bbox['maxy'] ]"
   ]
  },
  {
   "cell_type": "code",
   "execution_count": null,
   "id": "2fa97800",
   "metadata": {},
   "outputs": [],
   "source": [
    "matplotlib_extent"
   ]
  },
  {
   "cell_type": "code",
   "execution_count": null,
   "id": "98902919",
   "metadata": {},
   "outputs": [],
   "source": [
    "# Directory containing miscellaneous reference data\n",
    "misc_reference_data_dir = r'G:/Data_Resources/modx/misc_reference_data/'"
   ]
  },
  {
   "cell_type": "code",
   "execution_count": null,
   "id": "945613c8",
   "metadata": {},
   "outputs": [],
   "source": [
    "# Load the MassGIS TOWNS_POLYM shapefile into a geopandas dataframe \n",
    "# NOTE: This version of the shapefile is in EPSG4326, i.e., WGS84\n",
    "towns_shapefile_fn = 'towns_polym_EPSG4326.shp'\n",
    "fq_towns_shapefile_fn = misc_reference_data_dir + towns_shapefile_fn\n",
    "towns_gdf = gp.read_file(fq_towns_shapefile_fn)\n",
    "towns_gdf.set_index(\"town_id\")"
   ]
  },
  {
   "cell_type": "code",
   "execution_count": null,
   "id": "4813c107",
   "metadata": {},
   "outputs": [],
   "source": [
    "# Make a static map of speed during the AM period overlayed on the towns layer\n",
    "base = towns_gdf.plot(color='white', edgecolor='black')\n",
    "join_df.plot(\"Speed_am\", ax=base, figsize=(10.0,8.0), cmap='plasma', legend=True)\n",
    "plt.xlim((bbox['minx'], bbox['maxx']))\n",
    "plt.ylim((bbox['miny'], bbox['maxy']))\n",
    "plt.title('Speed in AM')\n",
    "plt.show()"
   ]
  },
  {
   "cell_type": "code",
   "execution_count": null,
   "id": "6178ee32",
   "metadata": {},
   "outputs": [],
   "source": []
  }
 ],
 "metadata": {
  "kernelspec": {
   "display_name": "Python [conda env:.conda-py37_jenks_etc] *",
   "language": "python",
   "name": "conda-env-.conda-py37_jenks_etc-py"
  },
  "language_info": {
   "codemirror_mode": {
    "name": "ipython",
    "version": 3
   },
   "file_extension": ".py",
   "mimetype": "text/x-python",
   "name": "python",
   "nbconvert_exporter": "python",
   "pygments_lexer": "ipython3",
   "version": "3.7.10"
  }
 },
 "nbformat": 4,
 "nbformat_minor": 5
}
