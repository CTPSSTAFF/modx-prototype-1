{
 "cells": [
  {
   "cell_type": "code",
   "execution_count": null,
   "id": "487c2784",
   "metadata": {},
   "outputs": [],
   "source": [
    "# Notebook to prototype calculating the bounding box of all the features in a geodata frame.\n",
    "# \n",
    "\n",
    "import pandas as pd\n",
    "import geopandas as gp"
   ]
  },
  {
   "cell_type": "code",
   "execution_count": null,
   "id": "6b42b462",
   "metadata": {},
   "outputs": [],
   "source": [
    "%matplotlib notebook"
   ]
  },
  {
   "cell_type": "code",
   "execution_count": null,
   "id": "aa18c98e",
   "metadata": {},
   "outputs": [],
   "source": [
    "# Directory in which user's output CSV report data was saved - it will now be our *input* directory\n",
    "my_sandbox_dir = r'S:/my_modx_output_dir/'"
   ]
  },
  {
   "cell_type": "code",
   "execution_count": null,
   "id": "582f9d17",
   "metadata": {},
   "outputs": [],
   "source": [
    "# Name of CSV file with volume, V/C, and speed data for selected links - it will now be our *input* CSV file\n",
    "csv_fn = 'links_report_base_scenario.csv'"
   ]
  },
  {
   "cell_type": "code",
   "execution_count": null,
   "id": "70a85354",
   "metadata": {},
   "outputs": [],
   "source": [
    "# Fully-qualified pathname to CSV file\n",
    "fq_csv_fn = my_sandbox_dir + csv_fn"
   ]
  },
  {
   "cell_type": "code",
   "execution_count": null,
   "id": "a45aca4c",
   "metadata": {},
   "outputs": [],
   "source": [
    "links_data_df = pd.read_csv(fq_csv_fn, delimiter=',')"
   ]
  },
  {
   "cell_type": "code",
   "execution_count": null,
   "id": "dd8c0945",
   "metadata": {},
   "outputs": [],
   "source": [
    "links_data_df"
   ]
  },
  {
   "cell_type": "code",
   "execution_count": null,
   "id": "7f1308fc",
   "metadata": {},
   "outputs": [],
   "source": [
    "# List of the IDs for the model network links for which data is reported in the input CSV file\n",
    "links_list = links_data_df['ID1'].to_list()"
   ]
  },
  {
   "cell_type": "code",
   "execution_count": null,
   "id": "fa670796",
   "metadata": {},
   "outputs": [],
   "source": [
    "# Directory in which the spatial data for the model network links is stored (both shapefile and GeoJSON formats)\n",
    "links_spatial_data_dir = r'G:/Data_Resources/modx/statewide_links_shapefile/'"
   ]
  },
  {
   "cell_type": "code",
   "execution_count": null,
   "id": "a38bed9b",
   "metadata": {},
   "outputs": [],
   "source": [
    "# Load the links shapefile into a geopandas dataframe \n",
    "# NOTE: This version of the shapefile is in EPSG4326, i.e., WGS84\n",
    "links_shapefile_fn = 'Statewide_Links_2018_BK_EPSG4326.shp'\n",
    "fq_links_shapefile_fn = links_spatial_data_dir + links_shapefile_fn\n",
    "links_gdf = gp.read_file(fq_links_shapefile_fn)\n",
    "links_gdf.set_index(\"ID\")"
   ]
  },
  {
   "cell_type": "code",
   "execution_count": null,
   "id": "986256d4",
   "metadata": {},
   "outputs": [],
   "source": [
    "# Filter the links geodataframe to only the links of interest\n",
    "filtered_links_gdf = links_gdf[links_gdf['ID'].isin(links_list)] "
   ]
  },
  {
   "cell_type": "code",
   "execution_count": null,
   "id": "5856dd79",
   "metadata": {},
   "outputs": [],
   "source": [
    "filtered_links_gdf"
   ]
  },
  {
   "cell_type": "code",
   "execution_count": null,
   "id": "adolescent-liability",
   "metadata": {},
   "outputs": [],
   "source": [
    "# shorthand\n",
    "gdf = filtered_links_gdf"
   ]
  },
  {
   "cell_type": "code",
   "execution_count": null,
   "id": "martial-engagement",
   "metadata": {},
   "outputs": [],
   "source": [
    "bounds_tuples = gdf['geometry'].map(lambda x: x.bounds)"
   ]
  },
  {
   "cell_type": "code",
   "execution_count": null,
   "id": "painful-conducting",
   "metadata": {},
   "outputs": [],
   "source": [
    "bounds_dicts = []"
   ]
  },
  {
   "cell_type": "code",
   "execution_count": null,
   "id": "tropical-update",
   "metadata": {},
   "outputs": [],
   "source": [
    "for t in bounds_tuples:\n",
    "    temp = { 'minx' : t[0], 'miny' : t[1], 'maxx' : t[2], 'maxy' : t[3] }\n",
    "    bounds_dicts.append(temp)\n"
   ]
  },
  {
   "cell_type": "code",
   "execution_count": null,
   "id": "turned-hamilton",
   "metadata": {},
   "outputs": [],
   "source": [
    "bounds_dicts[0]"
   ]
  },
  {
   "cell_type": "code",
   "execution_count": null,
   "id": "stunning-passion",
   "metadata": {},
   "outputs": [],
   "source": [
    "boundsdf = pd.DataFrame(bounds_dicts)"
   ]
  },
  {
   "cell_type": "code",
   "execution_count": null,
   "id": "encouraging-attack",
   "metadata": {},
   "outputs": [],
   "source": [
    "boundsdf"
   ]
  },
  {
   "cell_type": "code",
   "execution_count": null,
   "id": "republican-antibody",
   "metadata": {},
   "outputs": [],
   "source": [
    "minx = boundsdf['minx'].min()"
   ]
  },
  {
   "cell_type": "code",
   "execution_count": null,
   "id": "unavailable-equilibrium",
   "metadata": {},
   "outputs": [],
   "source": [
    "miny = boundsdf['miny'].min()"
   ]
  },
  {
   "cell_type": "code",
   "execution_count": null,
   "id": "superior-sitting",
   "metadata": {},
   "outputs": [],
   "source": [
    "maxx = boundsdf['maxx'].max()"
   ]
  },
  {
   "cell_type": "code",
   "execution_count": null,
   "id": "powerful-disposition",
   "metadata": {},
   "outputs": [],
   "source": [
    "maxy = boundsdf['maxy'].max()"
   ]
  },
  {
   "cell_type": "code",
   "execution_count": null,
   "id": "handy-distributor",
   "metadata": {},
   "outputs": [],
   "source": [
    "# Return the bounding box of all the features in a geo-dataframe.\n",
    "# The bounding box is returned as a dictionary with the following keys: { 'minx', 'miny', 'maxx', 'maxy'}.\n",
    "#\n",
    "def bbox_of_gdf(gdf):\n",
    "    bounds_tuples = gdf['geometry'].map(lambda x: x.bounds)\n",
    "    bounds_dicts = []\n",
    "    for t in bounds_tuples:\n",
    "        temp = { 'minx' : t[0], 'miny' : t[1], 'maxx' : t[2], 'maxy' : t[3] }\n",
    "        bounds_dicts.append(temp)\n",
    "    # end_for\n",
    "    bounds_df = pd.DataFrame(bounds_dicts)\n",
    "    minx = bounds_df['minx'].min()\n",
    "    miny = bounds_df['miny'].min()\n",
    "    maxx = bounds_df['maxx'].max()\n",
    "    maxy = bounds_df['maxy'].max()\n",
    "    retval = { 'minx' : minx, 'miny' : miny, 'maxx' : maxx, 'maxy' : maxy }\n",
    "    return retval\n",
    "# end_def bbox_of_gdf()"
   ]
  },
  {
   "cell_type": "code",
   "execution_count": null,
   "id": "institutional-guess",
   "metadata": {},
   "outputs": [],
   "source": [
    "my_bounds = bbox_of_gdf(gdf)"
   ]
  },
  {
   "cell_type": "code",
   "execution_count": null,
   "id": "finnish-ministry",
   "metadata": {},
   "outputs": [],
   "source": [
    "my_bounds"
   ]
  },
  {
   "cell_type": "code",
   "execution_count": null,
   "id": "hungarian-charter",
   "metadata": {},
   "outputs": [],
   "source": [
    "center_x = minx + (maxx - minx) / 2"
   ]
  },
  {
   "cell_type": "code",
   "execution_count": null,
   "id": "stunning-animal",
   "metadata": {},
   "outputs": [],
   "source": [
    "center_y = miny + (maxy - miny) / 2"
   ]
  },
  {
   "cell_type": "code",
   "execution_count": null,
   "id": "92702530",
   "metadata": {},
   "outputs": [],
   "source": [
    "center_x, center_y"
   ]
  },
  {
   "cell_type": "code",
   "execution_count": null,
   "id": "southwest-antigua",
   "metadata": {},
   "outputs": [],
   "source": [
    "# Given a dictonary of the form  'minx', 'miny', 'maxx', 'maxy'} representing a geographic bounding box,\n",
    "# return the center point as a dictionary with the keys { 'x' , 'y' }.\n",
    "def center_of_bbox(bbox):\n",
    "    center_x = bbox['minx'] + (bbox['maxx'] - bbox['minx']) / 2\n",
    "    center_y = bbox['miny'] + (bbox['maxy'] - bbox['miny']) / 2\n",
    "    retval = { 'x' : center_x, 'y' : center_y }\n",
    "    return retval\n",
    "# end_def center_of_bbox()"
   ]
  },
  {
   "cell_type": "code",
   "execution_count": null,
   "id": "boolean-teaching",
   "metadata": {},
   "outputs": [],
   "source": [
    "center_point = center_of_bbox(my_bounds)"
   ]
  },
  {
   "cell_type": "code",
   "execution_count": null,
   "id": "disabled-diagnosis",
   "metadata": {},
   "outputs": [],
   "source": [
    "center_point"
   ]
  },
  {
   "cell_type": "code",
   "execution_count": null,
   "id": "personal-drawing",
   "metadata": {},
   "outputs": [],
   "source": []
  }
 ],
 "metadata": {
  "kernelspec": {
   "display_name": "Python [conda env:.conda-py37_jenks_etc] *",
   "language": "python",
   "name": "conda-env-.conda-py37_jenks_etc-py"
  },
  "language_info": {
   "codemirror_mode": {
    "name": "ipython",
    "version": 3
   },
   "file_extension": ".py",
   "mimetype": "text/x-python",
   "name": "python",
   "nbconvert_exporter": "python",
   "pygments_lexer": "ipython3",
   "version": "3.7.10"
  }
 },
 "nbformat": 4,
 "nbformat_minor": 5
}
