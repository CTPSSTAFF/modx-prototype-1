{
 "cells": [
  {
   "cell_type": "code",
   "execution_count": null,
   "id": "limiting-hierarchy",
   "metadata": {},
   "outputs": [],
   "source": [
    "# Notebook to present comparison (i.e., \"diff\") of data for two scenarios for a given set of highway links in map form\n",
    "# using the hvplot library. The \"diff\" of total flow, speed, and  V/C, are presented.\n",
    "# The two sets of input data were previously calculated by sample_highway_links_report.ipypnb, and saved in CSV format.\n",
    "\n",
    "import numpy as np\n",
    "import pandas as pd\n",
    "import geopandas as gp\n",
    "from io import StringIO\n",
    "import matplotlib.pyplot as plt\n",
    "import bokeh\n",
    "import xarray as xr\n",
    "import hvplot.pandas\n",
    "import hvplot.xarray"
   ]
  },
  {
   "cell_type": "code",
   "execution_count": null,
   "id": "ignored-canyon",
   "metadata": {},
   "outputs": [],
   "source": [
    "# >>> *** USER INPUT REQUIRED *** <<<\n",
    "#\n",
    "# (1) Directory in which user's output CSV report data was saved - it will now be our *input* directory.\n",
    "#\n",
    "my_sandbox_dir = r'S:/my_modx_output_dir/'\n",
    "#\n",
    "# (2) Name of CSV file in this directory with report for \"base\" scenario.\n",
    "#\n",
    "base_csv_fn = 'links_report_base_scenario.csv'\n",
    "#\n",
    "# (3) Name of CSV file in this directory with report for \"comparison\" scenario.\n",
    "#\n",
    "comparison_csv_fn = 'links_report_comparison_scenario.csv'"
   ]
  },
  {
   "cell_type": "code",
   "execution_count": null,
   "id": "tamil-proof",
   "metadata": {},
   "outputs": [],
   "source": [
    "# Fully-qualified pathnames to CSV files containing \"base\" and \"comparison\" reports\n",
    "#\n",
    "fq_base_csv_fn = my_sandbox_dir + base_csv_fn\n",
    "fq_comparison_csv_fn = my_sandbox_dir + comparison_csv_fn"
   ]
  },
  {
   "cell_type": "code",
   "execution_count": null,
   "id": "scenic-martin",
   "metadata": {},
   "outputs": [],
   "source": [
    "# Read \"base\" data into a dataframe\n",
    "#\n",
    "base_df = pd.read_csv(fq_base_csv_fn, delimiter=',')\n",
    "#\n",
    "# Save the list of links for which the reports were generated\n",
    "#\n",
    "links_list = base_df['ID1'].to_list()\n",
    "#\n",
    "# Save column names for (possible) later use, after having removed the \"ID1\" column at index[0]\n",
    "#\n",
    "saved_column_names = base_df.columns[1:]\n",
    "#\n",
    "# Maybe we don't need to do the following, thanks to the functionality of df.merge()...\n",
    "# And rename each of the colums with the prefix 'base_'\n",
    "# base_df.rename(columns=lambda x: 'base_' + x, inplace=True, )"
   ]
  },
  {
   "cell_type": "code",
   "execution_count": null,
   "id": "rational-sequence",
   "metadata": {},
   "outputs": [],
   "source": [
    "# Read \"comparison\" data into a dataframe\n",
    "comparison_df = pd.read_csv(fq_comparison_csv_fn, delimiter=',')\n",
    "# Maybe we don't need to do the following, thanks to the functionality of df.merge()...\n",
    "# And rename each of the colums with the prefix 'comparison_'\n",
    "# comparison_df.rename(columns=lambda x: 'comparison_' + x, inplace=True, )"
   ]
  },
  {
   "cell_type": "code",
   "execution_count": null,
   "id": "threaded-struggle",
   "metadata": {},
   "outputs": [],
   "source": [
    "delta_df = pd.merge(left=comparison_df, right=base_df, on=\"ID1\", suffixes=('_comp', '_base'))"
   ]
  },
  {
   "cell_type": "code",
   "execution_count": null,
   "id": "fatty-elder",
   "metadata": {},
   "outputs": [],
   "source": [
    "delta_df"
   ]
  },
  {
   "cell_type": "code",
   "execution_count": null,
   "id": "olive-disabled",
   "metadata": {},
   "outputs": [],
   "source": [
    "# Calculate the delta (comparision - base) for each metric\n",
    "#\n",
    "for column_name in column_names:\n",
    "    base_column_name = column_name + '_base'\n",
    "    comp_column_name = column_name + '_comp'\n",
    "    delta_column_name = column_name + '_delta'\n",
    "    delta_df[delta_column_name] = delta_df[comp_column_name] - delta_df[base_column_name]\n",
    "# end_for"
   ]
  },
  {
   "cell_type": "code",
   "execution_count": null,
   "id": "equipped-qatar",
   "metadata": {},
   "outputs": [],
   "source": [
    "delta_df"
   ]
  },
  {
   "cell_type": "code",
   "execution_count": null,
   "id": "accredited-voice",
   "metadata": {},
   "outputs": [],
   "source": [
    "# Directory in which the spatial data for the model network links is stored (both shapefile and GeoJSON formats)\n",
    "links_spatial_data_dir = r'G:/Data_Resources/modx/statewide_links_shapefile/'"
   ]
  },
  {
   "cell_type": "code",
   "execution_count": null,
   "id": "excellent-republic",
   "metadata": {},
   "outputs": [],
   "source": [
    "# Load the links shapefile into a geopandas dataframe \n",
    "# NOTE: This version of the shapefile is in EPSG4326, i.e., WGS84\n",
    "links_shapefile_fn = 'Statewide_Links_2018_BK_EPSG4326.shp'\n",
    "fq_links_shapefile_fn = links_spatial_data_dir + links_shapefile_fn\n",
    "links_gdf = gp.read_file(fq_links_shapefile_fn)\n",
    "links_gdf.set_index(\"ID\")"
   ]
  },
  {
   "cell_type": "code",
   "execution_count": null,
   "id": "backed-stocks",
   "metadata": {},
   "outputs": [],
   "source": [
    "# Filter the links geodataframe to only the links of interest\n",
    "filtered_links_gdf = links_gdf[links_gdf['ID'].isin(links_list)] "
   ]
  },
  {
   "cell_type": "code",
   "execution_count": null,
   "id": "level-andrew",
   "metadata": {},
   "outputs": [],
   "source": [
    "filtered_links_gdf"
   ]
  },
  {
   "cell_type": "code",
   "execution_count": null,
   "id": "strange-sensitivity",
   "metadata": {},
   "outputs": [],
   "source": [
    "# Join the geo-data frame for the links with the \"links_data_df\", which contains the computed data about these links\n",
    "join_df = filtered_links_gdf.join(delta_df.set_index(\"ID1\"), on=\"ID\")"
   ]
  },
  {
   "cell_type": "code",
   "execution_count": null,
   "id": "signed-difference",
   "metadata": {},
   "outputs": [],
   "source": [
    "join_df"
   ]
  },
  {
   "cell_type": "code",
   "execution_count": null,
   "id": "computational-third",
   "metadata": {},
   "outputs": [],
   "source": [
    "# Make a static map of the change in speed during the AM period\n",
    "join_df.plot(\"Speed_am_delta\", figsize=(10.0,8.0), cmap='plasma', legend=True)\n",
    "plt.title('Change in AM Speed')"
   ]
  },
  {
   "cell_type": "code",
   "execution_count": null,
   "id": "front-caribbean",
   "metadata": {},
   "outputs": [],
   "source": [
    "# Make an interactive bar chart of the change in speed for each link in the AM period\n",
    "delta_df.hvplot.barh(x='ID1', xlabel='Link ID', \n",
    "                          y='Speed_am_delta', ylabel='Change in Speed (MPH) AM Period', xformatter=\"%f\", height=1500)"
   ]
  },
  {
   "cell_type": "code",
   "execution_count": null,
   "id": "boxed-swaziland",
   "metadata": {},
   "outputs": [],
   "source": [
    "# Make a static map of the change in volume-to-capacity ratio during the AM period\n",
    "join_df.plot(\"VOC_am_delta\", figsize=(10.0,8.0), cmap='plasma', legend=True)\n",
    "plt.title('Change in VOC in AM')"
   ]
  },
  {
   "cell_type": "code",
   "execution_count": null,
   "id": "corporate-basic",
   "metadata": {},
   "outputs": [],
   "source": [
    "# Make an interactive bar chart of the change in volume-to-capacity ratio for each link in the AM period\n",
    "delta_df.hvplot.barh(x='ID1', xlabel='Link ID', \n",
    "                          y='VOC_am_delta', ylabel='Change in V/C Ratio - AM Period', xformatter=\"%f\", height=1500)"
   ]
  },
  {
   "cell_type": "code",
   "execution_count": null,
   "id": "unusual-advisory",
   "metadata": {},
   "outputs": [],
   "source": [
    "# Make a static map of the change in total daily flow (volume) ratio during the AM period\n",
    "join_df.plot(\"Tot_Flow_daily_delta\", figsize=(10.0,8.0), cmap='plasma', legend=True)\n",
    "plt.title('Change in Daily Total Flow (volume)')"
   ]
  },
  {
   "cell_type": "code",
   "execution_count": null,
   "id": "accepting-audio",
   "metadata": {},
   "outputs": [],
   "source": [
    "# Make an interactive bar chart of the change in total daily flow (volume) by link\n",
    "delta_df.hvplot.barh(x='ID1', xlabel='Link ID', \n",
    "                          y='Tot_Flow_daily_delta', ylabel='Chagne in Total Daily Volume', xformatter=\"%f\", height=1500)"
   ]
  },
  {
   "cell_type": "code",
   "execution_count": null,
   "id": "ancient-eagle",
   "metadata": {},
   "outputs": [],
   "source": []
  }
 ],
 "metadata": {
  "kernelspec": {
   "display_name": "Python [conda env:.conda-base_py37_omx_gp_hvplot] *",
   "language": "python",
   "name": "conda-env-.conda-base_py37_omx_gp_hvplot-py"
  },
  "language_info": {
   "codemirror_mode": {
    "name": "ipython",
    "version": 3
   },
   "file_extension": ".py",
   "mimetype": "text/x-python",
   "name": "python",
   "nbconvert_exporter": "python",
   "pygments_lexer": "ipython3",
   "version": "3.7.10"
  }
 },
 "nbformat": 4,
 "nbformat_minor": 5
}
