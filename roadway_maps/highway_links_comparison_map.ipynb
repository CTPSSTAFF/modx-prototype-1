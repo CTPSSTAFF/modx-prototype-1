{
 "cells": [
  {
   "cell_type": "code",
   "execution_count": null,
   "id": "limiting-hierarchy",
   "metadata": {},
   "outputs": [],
   "source": [
    "# Notebook to present comparison (i.e., \"diff\") of data for two scenarios for a given set of highway links in map form\n",
    "# using the hvplot library. The \"diff\" of total flow, speed, and  V/C, are presented.\n",
    "# The two sets of input data were previously calculated by sample_highway_links_report.ipypnb, and saved in CSV format.\n",
    "\n",
    "import numpy as np\n",
    "import pandas as pd\n",
    "import geopandas as gp\n",
    "from io import StringIO\n",
    "import matplotlib.pyplot as plt\n",
    "import folium\n",
    "import bokeh\n",
    "import geoviews\n",
    "import xarray as xr\n",
    "import hvplot.pandas\n",
    "import hvplot.xarray"
   ]
  },
  {
   "cell_type": "code",
   "execution_count": null,
   "id": "ignored-canyon",
   "metadata": {},
   "outputs": [],
   "source": [
    "# >>> *** USER INPUT REQUIRED *** <<<\n",
    "#\n",
    "# (1) Directory in which user's output CSV report data was saved - it will now be our *input* directory.\n",
    "#\n",
    "my_sandbox_dir = r'S:/my_modx_output_dir/'\n",
    "#\n",
    "# (2) Name of CSV file in this directory with report for \"base\" scenario.\n",
    "#\n",
    "base_csv_fn = 'links_report_base_scenario.csv'\n",
    "#\n",
    "# (3) Name of CSV file in this directory with report for \"comparison\" scenario.\n",
    "#\n",
    "comparison_csv_fn = 'links_report_comparison_scenario.csv'"
   ]
  },
  {
   "cell_type": "code",
   "execution_count": null,
   "id": "tamil-proof",
   "metadata": {},
   "outputs": [],
   "source": [
    "# Fully-qualified pathnames to CSV files containing \"base\" and \"comparison\" reports\n",
    "#\n",
    "fq_base_csv_fn = my_sandbox_dir + base_csv_fn\n",
    "fq_comparison_csv_fn = my_sandbox_dir + comparison_csv_fn"
   ]
  },
  {
   "cell_type": "code",
   "execution_count": null,
   "id": "scenic-martin",
   "metadata": {},
   "outputs": [],
   "source": [
    "# Read \"base\" data into a dataframe\n",
    "#\n",
    "base_df = pd.read_csv(fq_base_csv_fn, delimiter=',')\n",
    "#\n",
    "# Save the list of links for which the reports were generated\n",
    "#\n",
    "links_list = base_df['ID1'].to_list()\n",
    "#\n",
    "# Save column names for (possible) later use, after having removed the \"ID1\" column at index[0]\n",
    "#\n",
    "saved_column_names = base_df.columns[1:]\n",
    "#\n",
    "# Maybe we don't need to do the following, thanks to the functionality of df.merge()...\n",
    "# And rename each of the colums with the prefix 'base_'\n",
    "# base_df.rename(columns=lambda x: 'base_' + x, inplace=True, )"
   ]
  },
  {
   "cell_type": "code",
   "execution_count": null,
   "id": "acoustic-warner",
   "metadata": {},
   "outputs": [],
   "source": [
    "# Read \"comparison\" data into a dataframe\n",
    "comparison_df = pd.read_csv(fq_comparison_csv_fn, delimiter=',')\n",
    "# Maybe we don't need to do the following, thanks to the functionality of df.merge()...\n",
    "# And rename each of the colums with the prefix 'comparison_'\n",
    "# comparison_df.rename(columns=lambda x: 'comparison_' + x, inplace=True, )"
   ]
  },
  {
   "cell_type": "code",
   "execution_count": null,
   "id": "mineral-story",
   "metadata": {},
   "outputs": [],
   "source": [
    "delta_df = pd.merge(left=comparison_df, right=base_df, on=\"ID1\", suffixes=('_comp', '_base'))"
   ]
  },
  {
   "cell_type": "code",
   "execution_count": null,
   "id": "pediatric-theme",
   "metadata": {},
   "outputs": [],
   "source": [
    "delta_df"
   ]
  },
  {
   "cell_type": "code",
   "execution_count": null,
   "id": "signal-variance",
   "metadata": {},
   "outputs": [],
   "source": [
    "# Calculate the delta (comparision - base) for each metric\n",
    "#\n",
    "for column_name in saved_column_names:\n",
    "    base_column_name = column_name + '_base'\n",
    "    comp_column_name = column_name + '_comp'\n",
    "    delta_column_name = column_name + '_delta'\n",
    "    delta_df[delta_column_name] = delta_df[comp_column_name] - delta_df[base_column_name]\n",
    "# end_for"
   ]
  },
  {
   "cell_type": "code",
   "execution_count": null,
   "id": "bound-paragraph",
   "metadata": {},
   "outputs": [],
   "source": [
    "delta_df"
   ]
  },
  {
   "cell_type": "code",
   "execution_count": null,
   "id": "accredited-voice",
   "metadata": {},
   "outputs": [],
   "source": [
    "# Directory in which the spatial data for the model network links is stored (both shapefile and GeoJSON formats)\n",
    "links_spatial_data_dir = r'G:/Data_Resources/modx/statewide_links_shapefile/'"
   ]
  },
  {
   "cell_type": "code",
   "execution_count": null,
   "id": "excellent-republic",
   "metadata": {},
   "outputs": [],
   "source": [
    "# Load the links shapefile into a geopandas dataframe \n",
    "# NOTE: This version of the shapefile is in EPSG4326, i.e., WGS84\n",
    "links_shapefile_fn = 'Statewide_Links_2018_BK_EPSG4326.shp'\n",
    "fq_links_shapefile_fn = links_spatial_data_dir + links_shapefile_fn\n",
    "links_gdf = gp.read_file(fq_links_shapefile_fn)\n",
    "links_gdf.set_index(\"ID\")"
   ]
  },
  {
   "cell_type": "code",
   "execution_count": null,
   "id": "backed-stocks",
   "metadata": {},
   "outputs": [],
   "source": [
    "# Filter the links geodataframe to only the links of interest\n",
    "filtered_links_gdf = links_gdf[links_gdf['ID'].isin(links_list)] "
   ]
  },
  {
   "cell_type": "code",
   "execution_count": null,
   "id": "level-andrew",
   "metadata": {},
   "outputs": [],
   "source": [
    "filtered_links_gdf"
   ]
  },
  {
   "cell_type": "code",
   "execution_count": null,
   "id": "strange-sensitivity",
   "metadata": {},
   "outputs": [],
   "source": [
    "# Join the geo-data frame for the links with the \"links_data_df\", which contains the computed data about these links\n",
    "join_df = filtered_links_gdf.join(delta_df.set_index(\"ID1\"), on=\"ID\")"
   ]
  },
  {
   "cell_type": "code",
   "execution_count": null,
   "id": "signed-difference",
   "metadata": {},
   "outputs": [],
   "source": [
    "join_df"
   ]
  },
  {
   "cell_type": "code",
   "execution_count": null,
   "id": "prepared-logging",
   "metadata": {},
   "outputs": [],
   "source": [
    "# Return the bounding box of all the features in a geo-dataframe.\n",
    "# The bounding box is returned as a dictionary with the following keys: { 'minx', 'miny', 'maxx', 'maxy'}.\n",
    "#\n",
    "def bbox_of_gdf(gdf):\n",
    "    bounds_tuples = gdf['geometry'].map(lambda x: x.bounds)\n",
    "    bounds_dicts = []\n",
    "    for t in bounds_tuples:\n",
    "        temp = { 'minx' : t[0], 'miny' : t[1], 'maxx' : t[2], 'maxy' : t[3] }\n",
    "        bounds_dicts.append(temp)\n",
    "    # end_for\n",
    "    bounds_df = pd.DataFrame(bounds_dicts)\n",
    "    minx = bounds_df['minx'].min()\n",
    "    miny = bounds_df['miny'].min()\n",
    "    maxx = bounds_df['maxx'].max()\n",
    "    maxy = bounds_df['maxy'].max()\n",
    "    retval = { 'minx' : minx, 'miny' : miny, 'maxx' : maxx, 'maxy' : maxy }\n",
    "    return retval\n",
    "# end_def bbox_of_gdf()\n",
    "\n",
    "# Given a dictonary of the form  'minx', 'miny', 'maxx', 'maxy'} representing a geographic bounding box,\n",
    "# return the center point as a dictionary with the keys { 'x' , 'y' }.\n",
    "def center_of_bbox(bbox):\n",
    "    center_x = bbox['minx'] + (bbox['maxx'] - bbox['minx']) / 2\n",
    "    center_y = bbox['miny'] + (bbox['maxy'] - bbox['miny']) / 2\n",
    "    retval = { 'x' : center_x, 'y' : center_y }\n",
    "    return retval\n",
    "# end_def center_of_bbox()"
   ]
  },
  {
   "cell_type": "code",
   "execution_count": null,
   "id": "painful-partner",
   "metadata": {},
   "outputs": [],
   "source": [
    "# Get the bounding box of the selected links, and the center point of that bounding box\n",
    "bbox = bbox_of_gdf(join_df)\n",
    "center_pt = center_of_bbox(bbox)"
   ]
  },
  {
   "cell_type": "code",
   "execution_count": null,
   "id": "developing-bridge",
   "metadata": {},
   "outputs": [],
   "source": [
    "# Directory containing miscellaneous reference data\n",
    "misc_reference_data_dir = r'G:/Data_Resources/modx/misc_reference_data/'"
   ]
  },
  {
   "cell_type": "code",
   "execution_count": null,
   "id": "musical-terminology",
   "metadata": {},
   "outputs": [],
   "source": [
    "# Load the MassGIS TOWNS_POLYM shapefile into a geopandas dataframe \n",
    "# NOTE: This version of the shapefile is in EPSG4326, i.e., WGS84\n",
    "towns_shapefile_fn = 'towns_polym_EPSG4326.shp'\n",
    "fq_towns_shapefile_fn = misc_reference_data_dir + towns_shapefile_fn\n",
    "towns_gdf = gp.read_file(fq_towns_shapefile_fn)\n",
    "towns_gdf.set_index(\"town_id\")"
   ]
  },
  {
   "cell_type": "code",
   "execution_count": null,
   "id": "serial-joseph",
   "metadata": {},
   "outputs": [],
   "source": [
    "# Export the geo-dataframe to GeoJSON format, so it can be used with the folium library\n",
    "out_geojson_fn = my_sandbox_dir + 'temp_geojson.geojson'\n",
    "join_df.to_file(out_geojson_fn, driver='GeoJSON')"
   ]
  },
  {
   "cell_type": "code",
   "execution_count": null,
   "id": "computational-third",
   "metadata": {},
   "outputs": [],
   "source": [
    "# Make a static map of the change in speed during the AM period overlayed on the towns layer\n",
    "base = towns_gdf.plot(color='white', edgecolor='black')\n",
    "join_df.plot(\"Speed_am_delta\", ax=base, figsize=(20.0,16.0), cmap='plasma', legend=True)\n",
    "plt.xlim((bbox['minx'], bbox['maxx']))\n",
    "plt.ylim((bbox['miny'], bbox['maxy']))\n",
    "plt.title('Chage in Speed in AM')\n",
    "plt.show()"
   ]
  },
  {
   "cell_type": "code",
   "execution_count": null,
   "id": "impressive-execution",
   "metadata": {},
   "outputs": [],
   "source": [
    "# Render an interactive folium map of the change in AM speed\n",
    "# \n",
    "center = [center_pt['y'], center_pt['x']]\n",
    "m = folium.Map(location=center, zoom_start=12)\n",
    "links_geojson = open(out_geojson_fn).read()\n",
    "#\n",
    "# Color scale source: https://colorbrewer2.org/#type=diverging&scheme=RdYlGn&n=6 (inverted)\n",
    "def speed_colorscale(delta_speed):\n",
    "    if delta_speed == None:\n",
    "        retval = '#000000'\n",
    "    elif (delta_speed > 20.0):\n",
    "        retval = '#1a9850'\n",
    "    elif (delta_speed > 10.0):\n",
    "        retval = '#91cf60'\n",
    "    elif (delta_speed > 0.0):\n",
    "        retval = '#d9ef8b'\n",
    "    elif (delta_speed > -10.0):\n",
    "        retval = '#fee08b'\n",
    "    elif (delta_speed > -20.0):\n",
    "        retval = '#fc8d59'\n",
    "    else:\n",
    "        retval = '#d73027'\n",
    "    #\n",
    "    return retval\n",
    "#\n",
    "def my_style_function(feature):\n",
    "    delta_speed = feature['properties']['Speed_am_delta']\n",
    "    return {\n",
    "        'opacity': 1.0,\n",
    "        'weight' : 5.0,\n",
    "        'color': speed_colorscale(delta_speed)\n",
    "    }\n",
    "#\n",
    "folium.GeoJson(links_geojson,\n",
    "               style_function=my_style_function,\n",
    "               tooltip = folium.GeoJsonTooltip(fields=('ID', 'Tot_Flow_daily_delta', 'Speed_am_delta', 'VOC_am_delta'),\n",
    "                                               aliases=('Link ID',\n",
    "                                                        'Change in Daily total flow', \n",
    "                                                        'Change in AM speed', \n",
    "                                                        'Change in AM V/C'))).add_to(m)\n",
    "\n",
    "#\n",
    "m"
   ]
  },
  {
   "cell_type": "code",
   "execution_count": null,
   "id": "front-caribbean",
   "metadata": {},
   "outputs": [],
   "source": [
    "# Make an interactive bar chart of the change in speed for each link in the AM period\n",
    "delta_df.hvplot.barh(x='ID1', xlabel='Link ID', \n",
    "                          y='Speed_am_delta', ylabel='Change in Speed (MPH) AM Period', xformatter=\"%f\", height=1500)"
   ]
  },
  {
   "cell_type": "code",
   "execution_count": null,
   "id": "boxed-swaziland",
   "metadata": {},
   "outputs": [],
   "source": [
    "# Make a static map of the change in volume-to-capacity ratio during the AM period overlayed on the towns layer\n",
    "base = towns_gdf.plot(color='white', edgecolor='black')\n",
    "join_df.plot(\"VOC_am_delta\", ax=base, figsize=(20.0,16.0), cmap='plasma', legend=True)\n",
    "plt.xlim((bbox['minx'], bbox['maxx']))\n",
    "plt.ylim((bbox['miny'], bbox['maxy']))\n",
    "plt.title('Chage in VOC in AM')\n",
    "plt.show()"
   ]
  },
  {
   "cell_type": "code",
   "execution_count": null,
   "id": "corporate-basic",
   "metadata": {},
   "outputs": [],
   "source": [
    "# Make an interactive bar chart of the change in volume-to-capacity ratio for each link in the AM period\n",
    "delta_df.hvplot.barh(x='ID1', xlabel='Link ID', \n",
    "                          y='VOC_am_delta', ylabel='Change in V/C Ratio - AM Period', xformatter=\"%f\", height=1500)"
   ]
  },
  {
   "cell_type": "code",
   "execution_count": null,
   "id": "studied-bones",
   "metadata": {},
   "outputs": [],
   "source": [
    "# Render an interactive folium map of the change in AM volume-to-capacity ratio\n",
    "# \n",
    "center = [center_pt['y'], center_pt['x']]\n",
    "m = folium.Map(location=center, zoom_start=12)\n",
    "links_geojson = open(out_geojson_fn).read()\n",
    "#\n",
    "# Color scale source: https://colorbrewer2.org/#type=diverging&scheme=RdYlGn&n=6 (inverted)\n",
    "def voc_colorscale(delta_voc):\n",
    "    if delta_voc == None:\n",
    "        retval = '#000000'\n",
    "    elif (delta_voc > 0.5):\n",
    "        retval = '#2171b5'\n",
    "    elif (delta_voc > 0.25):\n",
    "        retval = '#6baed6'\n",
    "    elif (delta_voc > 0.0):\n",
    "        retval = '#bdd7e7'\n",
    "    else:\n",
    "        retval = '#eff3ff'\n",
    "    #\n",
    "    return retval\n",
    "#\n",
    "def my_style_function(feature):\n",
    "    delta_voc = feature['properties']['VOC_am_delta']\n",
    "    return {\n",
    "        'opacity': 1.0,\n",
    "        'weight' : 5.0,\n",
    "        'color': voc_colorscale(delta_voc)\n",
    "    }\n",
    "#\n",
    "folium.GeoJson(links_geojson,\n",
    "               style_function=my_style_function,\n",
    "               tooltip = folium.GeoJsonTooltip(fields=('ID', 'Tot_Flow_daily_delta', 'Speed_am_delta', 'VOC_am_delta'),\n",
    "                                               aliases=('Link ID',\n",
    "                                                        'Change in Daily total flow', \n",
    "                                                        'Change in AM speed', \n",
    "                                                        'Change in AM VOC'))).add_to(m)\n",
    "\n",
    "#\n",
    "m"
   ]
  },
  {
   "cell_type": "code",
   "execution_count": null,
   "id": "unusual-advisory",
   "metadata": {},
   "outputs": [],
   "source": [
    "# Make a static map of the change in total daily flow (volume) ratio during the AM period overlayed on the towns layer\n",
    "base = towns_gdf.plot(color='white', edgecolor='black')\n",
    "join_df.plot(\"Tot_Flow_daily_delta\", ax=base, figsize=(20.0,16.0), cmap='plasma', legend=True)\n",
    "plt.xlim((bbox['minx'], bbox['maxx']))\n",
    "plt.ylim((bbox['miny'], bbox['maxy']))\n",
    "plt.title('Change in Daily Total Flow (volume)')\n",
    "plt.show()"
   ]
  },
  {
   "cell_type": "code",
   "execution_count": null,
   "id": "accepting-audio",
   "metadata": {},
   "outputs": [],
   "source": [
    "# Make an interactive bar chart of the change in total daily flow (volume) by link\n",
    "delta_df.hvplot.barh(x='ID1', xlabel='Link ID', \n",
    "                          y='Tot_Flow_daily_delta', ylabel='Chagne in Total Daily Volume', xformatter=\"%f\", height=1500)"
   ]
  },
  {
   "cell_type": "code",
   "execution_count": null,
   "id": "ancient-eagle",
   "metadata": {},
   "outputs": [],
   "source": [
    "# Make an interactive folium map of the change in total daily flow (volume) \n",
    "# \n",
    "center = [center_pt['y'], center_pt['x']]\n",
    "m = folium.Map(location=center, zoom_start=12)\n",
    "links_geojson = open(out_geojson_fn).read()\n",
    "#\n",
    "# Colorscale source = https://colorbrewer2.org/#type=sequential&scheme=Reds&n=7 (inverted)\n",
    "def flow_colorscale(delta_flow):\n",
    "    if delta_flow == None:\n",
    "        retval = '#000000'\n",
    "    elif (delta_flow > 10000.0):\n",
    "        retval = '#99000d'\n",
    "    elif (delta_flow > 0.0):\n",
    "        retval = '#cb181d'\n",
    "    elif (delta_flow > -10000.0):\n",
    "        retval = '#ef3b2c'\n",
    "    elif (delta_flow > -20000.0):\n",
    "        retval = '#fb6a4a'\n",
    "    elif (delta_flow > -30000.0):\n",
    "        retval = '#fc9272'\n",
    "    elif (delta_flow > -40000.0):\n",
    "        retval = '#fcbba1'\n",
    "    else:\n",
    "        retval = '#fee5d9'\n",
    "    #\n",
    "    return retval\n",
    "#\n",
    "def my_style_function(feature):\n",
    "    delta_flow = feature['properties']['Tot_Flow_daily_delta']\n",
    "    return {\n",
    "        'opacity': 1.0,\n",
    "        'weight' : 5.0,\n",
    "        'color': flow_colorscale(delta_flow)\n",
    "    }\n",
    "#\n",
    "folium.GeoJson(links_geojson,\n",
    "               style_function=my_style_function,\n",
    "               tooltip = folium.GeoJsonTooltip(fields=('ID', 'Tot_Flow_daily_delta', 'Speed_am_delta', 'VOC_am_delta'),\n",
    "                                               aliases=('Link ID',\n",
    "                                                        'Change in Daily total flow', \n",
    "                                                        'Change in AM speed', \n",
    "                                                        'Change in AM V/C'))).add_to(m)\n",
    "#\n",
    "m"
   ]
  },
  {
   "cell_type": "code",
   "execution_count": null,
   "id": "sorted-bones",
   "metadata": {},
   "outputs": [],
   "source": []
  }
 ],
 "metadata": {
  "kernelspec": {
   "display_name": "Python [conda env:.conda-base_py37_omx_gp_hvplot] *",
   "language": "python",
   "name": "conda-env-.conda-base_py37_omx_gp_hvplot-py"
  },
  "language_info": {
   "codemirror_mode": {
    "name": "ipython",
    "version": 3
   },
   "file_extension": ".py",
   "mimetype": "text/x-python",
   "name": "python",
   "nbconvert_exporter": "python",
   "pygments_lexer": "ipython3",
   "version": "3.7.10"
  }
 },
 "nbformat": 4,
 "nbformat_minor": 5
}
