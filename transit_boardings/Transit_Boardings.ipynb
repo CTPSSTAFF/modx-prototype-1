{
 "cells": [
  {
   "cell_type": "markdown",
   "id": "closing-fishing",
   "metadata": {},
   "source": [
    "# Transit Boardings Report\n",
    "This report includes two types of report:\n",
    "- Standard: A single or comparison report for the overall scenario(s)\n",
    "    - This includes sub-mode daily boardings and TOD totals (AM, MD, PM, NT) \n",
    "- Detailed: A detailed report for selected links.\n",
    "    - This includes Daily and TOD boardings for user specified route(s)\n"
   ]
  },
  {
   "cell_type": "code",
   "execution_count": 2,
   "id": "wired-graphics",
   "metadata": {},
   "outputs": [],
   "source": [
    "#import required libraries\n",
    "import pandas as pd\n",
    "import numpy as np\n",
    "import os\n",
    "import glob\n",
    "from functools import reduce"
   ]
  },
  {
   "cell_type": "code",
   "execution_count": 122,
   "id": "nasty-independence",
   "metadata": {},
   "outputs": [],
   "source": [
    "#standard or detailed?\n",
    "    #detailed can include multiple routes \n",
    "routeList = [] #from file\n",
    "#one or two scenarios?\n",
    "bases = {'Base Model':r'G:/Regional_Modeling/1A_Archives/LRTP_2018/2040 NB Scen 01_MoDXoutputs/',\n",
    "    'Comparative Model':r'G:/Regional_Modeling/1A_Archives/LRTP_2018/2016 Scen 00_08March2019_MoDXoutputs/'} #MAX 2 BASES\n",
    "##note - if s2 is not None then loop before graph, if no s2 then no loop \n",
    "#   (actually maybe use loop for graph and then at the end if second map and delta, add to the layout)\n",
    "##note part2- have if/else for graphing one or multiple scenarios\n",
    "##note part3 - have if/else for graphing detailed or standard (also with one vs. multiple scenario)\n",
    "## if detailed, aggregate by route not by meta mode.\n",
    "#filter if detailed\n"
   ]
  },
  {
   "cell_type": "code",
   "execution_count": 103,
   "id": "arbitrary-exclusion",
   "metadata": {},
   "outputs": [],
   "source": [
    "#import transit assignment results\n",
    "def import_transit_assignment(b):\n",
    "    base = b+r'out/'\n",
    "    tod = [\"AM/\", \"MD/\", \"PM/\", \"NT/\"]\n",
    "    TODsums = {} # this will eventually contain all the TOD summed results\n",
    "\n",
    "    #import csv and create sum tables for all TOD and for all day\n",
    "    for x in tod:\n",
    "        paths = glob.glob(os.path.join(base,x,r'*.csv'))\n",
    "        tablist = []\n",
    "        for p in paths:\n",
    "            tablist.append(pd.read_csv(p).set_index(['ROUTE','STOP'])) #read in, set indices, and append to list\n",
    "        if len(routeList) > 0: #deal with detailed filtering if needed\n",
    "            for t in range(len(tablist)):\n",
    "                tablist[t] = tablist[t][tablist[t].index.get_level_values('ROUTE').isin(routeList)]\n",
    "        TODsums[x[0:2]] = reduce(lambda a, b: a.add(b, fill_value=0), tablist) #sum the tables for the TOD\n",
    "    TODsums['daily'] = reduce(lambda a, b: a.add(b, fill_value=0), TODsums.values()) #sum of all the TOD sum tables \n",
    "    for x in TODsums.keys():\n",
    "        TODsums[x] = TODsums[x].reset_index() #fix indices\n",
    "    return TODsums\n"
   ]
  },
  {
   "cell_type": "code",
   "execution_count": 101,
   "id": "attended-responsibility",
   "metadata": {},
   "outputs": [],
   "source": [
    "#set up route to mode to mode group table\n",
    "def set_up_metamode_table(b):\n",
    "    routemode = pd.read_csv(b + r'Databases/Statewide_Routes_2018S.csv', usecols=[\"Routes_ID\", \"Mode\"]).drop_duplicates()\n",
    "\n",
    "    #filter if detailed\n",
    "    if len(routeList) > 0:\n",
    "        routemode = routemode[routemode['Routes_ID'].isin(routeList)]\n",
    "    #assign metamode to routes and modes\n",
    "    routemode['metaMode'] = np.where(routemode['Mode'].isin([1,2,3]), 'MBTA_Bus',\n",
    "                                    np.where(routemode['Mode'].isin([5,6,7,8]), 'Heavy_Rail',\n",
    "                                            np.where(routemode['Mode'].isin([4,12,13]), 'Light_Rail',\n",
    "                                                    np.where(routemode['Mode'].isin([9,32,33,34,35,36,37,38,39,40]), 'Commuter_Rail',\n",
    "                                                            np.where(routemode['Mode'].isin([10,11]), 'Ferry',\n",
    "                                                                    np.where(routemode['Mode'].isin([14,15,16]), 'Shuttle_Express',\n",
    "                                                                            np.where(routemode['Mode'].isin([41,42,43,44,17,18,19,20,21,22]), 'RTA',\n",
    "                                                                                    np.where(routemode['Mode'].isin([23,24,25,26,27,28,29,30,31]), 'Private',\n",
    "                                                                                            np.where(routemode['Mode'].isin([70]), 'Walk', None)))))))))\n",
    "    return routemode\n"
   ]
  },
  {
   "cell_type": "code",
   "execution_count": 116,
   "id": "spread-photography",
   "metadata": {},
   "outputs": [],
   "source": [
    "def join_and_agg(TODSums, routemode):\n",
    "#set the group by field depending on if standard or detailed report\n",
    "    if len(routeList) > 0:\n",
    "        agg = 'ROUTE'\n",
    "    else: \n",
    "        agg = 'metaMode'\n",
    "\n",
    "    for x in TODsums.keys():\n",
    "        #join each table to route mode\n",
    "        TODsums[x] = routemode.merge(TODsums[x], how='right', left_on='Routes_ID', right_on='ROUTE')\n",
    "        #sum all On/Off fields by metamode \n",
    "        TODsums[x] = TODsums[x].groupby([agg])[['DirectTransferOff','DirectTransferOn','DriveAccessOn','EgressOff','Off','On',\n",
    "                                                'WalkAccessOn','WalkTransferOff','WalkTransferOn']].agg('sum').reset_index()\n",
    "    return TODsums"
   ]
  },
  {
   "cell_type": "code",
   "execution_count": null,
   "id": "tutorial-leather",
   "metadata": {},
   "outputs": [],
   "source": [
    "#make bar charts/histograms with % of each type Direct/Drive/Walk dif colors in the bar. Put # at the top\n",
    "#https://plotly.com/python/bar-charts/\n",
    "#https://plotly.com/python/subplots/"
   ]
  },
  {
   "cell_type": "code",
   "execution_count": 121,
   "id": "filled-regard",
   "metadata": {},
   "outputs": [
    {
     "name": "stdout",
     "output_type": "stream",
     "text": [
      "   ROUTE  DirectTransferOff  DirectTransferOn  DriveAccessOn   EgressOff  \\\n",
      "0   1601           0.038154          0.000014      24.797164   21.398636   \n",
      "1   1649           5.272965         23.953019       0.000000  292.272497   \n",
      "2   1654          15.725832          3.709195       0.000000   43.366414   \n",
      "\n",
      "          Off          On  WalkAccessOn  WalkTransferOff  WalkTransferOn  \n",
      "0   60.874057   60.989295      8.312079        39.437267       27.880037  \n",
      "1  297.777868  297.778627    252.115631         0.232405       21.709971  \n",
      "2   60.854496   60.855816     56.451973         1.762250        0.694646  \n",
      "   ROUTE  DirectTransferOff  DirectTransferOn  DriveAccessOn   EgressOff  \\\n",
      "0   1601           0.015382          0.000466      58.011665   43.056397   \n",
      "1   1649           3.735351         15.766849       0.000000  187.079020   \n",
      "2   1654          11.182845          2.531834       0.000000   30.062159   \n",
      "\n",
      "          Off          On  WalkAccessOn  WalkTransferOff  WalkTransferOn  \n",
      "0   79.286299   79.396171      4.000252        36.214520       17.383790  \n",
      "1  190.991883  190.992643    158.937570         0.177515       16.288222  \n",
      "2   42.531412   42.532721     39.551306         1.286411        0.449583  \n"
     ]
    }
   ],
   "source": [
    "#call things\n",
    "#write a SUPER FUNCTION!!! (which calls all functions)\n",
    "for g in bases.keys():\n",
    "    TODsums = import_transit_assignment(bases[g])\n",
    "    routemode = set_up_metamode_table(bases[g])\n",
    "    TODsums = join_and_agg(TODsums, routemode)\n",
    "    print(TODsums['daily'])"
   ]
  },
  {
   "cell_type": "code",
   "execution_count": null,
   "id": "international-imagination",
   "metadata": {},
   "outputs": [],
   "source": []
  }
 ],
 "metadata": {
  "kernelspec": {
   "display_name": "Python [conda env:base_py_37_branca] *",
   "language": "python",
   "name": "conda-env-base_py_37_branca-py"
  },
  "language_info": {
   "codemirror_mode": {
    "name": "ipython",
    "version": 3
   },
   "file_extension": ".py",
   "mimetype": "text/x-python",
   "name": "python",
   "nbconvert_exporter": "python",
   "pygments_lexer": "ipython3",
   "version": "3.7.10"
  }
 },
 "nbformat": 4,
 "nbformat_minor": 5
}
