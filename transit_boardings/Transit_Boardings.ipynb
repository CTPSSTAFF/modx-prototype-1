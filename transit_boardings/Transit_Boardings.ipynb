{
 "cells": [
  {
   "cell_type": "markdown",
   "id": "closing-fishing",
   "metadata": {},
   "source": [
    "# Transit Boardings Report\n",
    "This report includes two types of report:\n",
    "- Standard: A single or comparison report for the overall scenario(s)\n",
    "    - This includes sub-mode daily boardings and TOD totals (AM, MD, PM, NT) \n",
    "- Detailed: A detailed report for selected links.\n",
    "    - This includes Daily and TOD boardings for user specified route(s)\n"
   ]
  },
  {
   "cell_type": "code",
   "execution_count": null,
   "id": "wired-graphics",
   "metadata": {},
   "outputs": [],
   "source": [
    "#import required libraries\n",
    "import pandas as pd\n",
    "import numpy as np\n",
    "import os\n",
    "import glob\n",
    "from functools import reduce\n",
    "import plotly.express as px\n",
    "from plotly.subplots import make_subplots\n",
    "import plotly.graph_objects as go\n",
    "from plotly import tools"
   ]
  },
  {
   "cell_type": "code",
   "execution_count": null,
   "id": "nasty-independence",
   "metadata": {},
   "outputs": [],
   "source": [
    "#one or two scenarios?\n",
    "bases = {'Base Model':r'G:/Regional_Modeling/1A_Archives/LRTP_2018/2040 NB Scen 01_MoDXoutputs/',\n",
    "    'Comparative Model':r'G:/Regional_Modeling/1A_Archives/LRTP_2018/2016 Scen 00_08March2019_MoDXoutputs/'} #MAX 2 BASES\n",
    "\n",
    "#standard or detailed?\n",
    "routes = r'G:/Data_Resources/DataStore/transit info.csv'\n",
    "    #detailed can include multiple routes\n",
    "routefile = pd.read_csv(routes)\n",
    "routeList = routefile['Route_ID'] #[7887,8188,7888,8187,8339,8386,8387,8388]\n"
   ]
  },
  {
   "cell_type": "code",
   "execution_count": null,
   "id": "arbitrary-exclusion",
   "metadata": {},
   "outputs": [],
   "source": [
    "#import transit assignment results\n",
    "def import_transit_assignment(b):\n",
    "    '''bring in data and combine into sum tables for daily and put into a dictionary'''\n",
    "    base = b+r'out/'\n",
    "    tod = [\"AM/\", \"MD/\", \"PM/\", \"NT/\"]\n",
    "    TODsums = {} # this will eventually contain all the TOD summed results\n",
    "\n",
    "    #import csv and create sum tables for all TOD and for all day\n",
    "    for x in tod:\n",
    "        paths = glob.glob(os.path.join(base,x,r'*.csv'))\n",
    "        tablist = []\n",
    "        for p in paths:\n",
    "            tablist.append(pd.read_csv(p).set_index(['ROUTE','STOP'])) #read in, set indices, and append to list\n",
    "        if len(routeList) > 0: #deal with detailed filtering if needed\n",
    "            for t in range(len(tablist)):\n",
    "                tablist[t] = tablist[t][tablist[t].index.get_level_values('ROUTE').isin(routeList)]\n",
    "        TODsums[x[0:2]] = reduce(lambda a, b: a.add(b, fill_value=0), tablist) #sum the tables for the TOD\n",
    "    TODsums['daily'] = reduce(lambda a, b: a.add(b, fill_value=0), TODsums.values()) #sum of all the TOD sum tables \n",
    "    for x in TODsums.keys():\n",
    "        TODsums[x] = TODsums[x].reset_index() #fix indices\n",
    "    return TODsums\n"
   ]
  },
  {
   "cell_type": "code",
   "execution_count": null,
   "id": "attended-responsibility",
   "metadata": {},
   "outputs": [],
   "source": [
    "#set up route to mode to mode group table\n",
    "def set_up_metamode_table(b):\n",
    "    '''flag each route type by metaMode'''\n",
    "    routemode = pd.read_csv(b + r'Databases/Statewide_Routes_2018S.csv', usecols=[\"Routes_ID\", \"Mode\"]).drop_duplicates()\n",
    "\n",
    "    #filter if detailed\n",
    "    if len(routeList) > 0:\n",
    "        routemode = routemode[routemode['Routes_ID'].isin(routeList)]\n",
    "    #assign metamode to routes and modes\n",
    "    routemode['metaMode'] = np.where(routemode['Mode'].isin([1,2,3]), 'MBTA_Bus',\n",
    "                                    np.where(routemode['Mode'].isin([5,6,7,8]), 'Heavy_Rail',\n",
    "                                            np.where(routemode['Mode'].isin([4,12,13]), 'Light_Rail',\n",
    "                                                    np.where(routemode['Mode'].isin([9,32,33,34,35,36,37,38,39,40]), 'Commuter_Rail',\n",
    "                                                            np.where(routemode['Mode'].isin([10,11]), 'Ferry',\n",
    "                                                                    np.where(routemode['Mode'].isin([14,15,16]), 'Shuttle_Express',\n",
    "                                                                            np.where(routemode['Mode'].isin([41,42,43,44,17,18,19,20,21,22]), 'RTA',\n",
    "                                                                                    np.where(routemode['Mode'].isin([23,24,25,26,27,28,29,30,31]), 'Private',\n",
    "                                                                                            np.where(routemode['Mode'].isin([70]), 'Walk', None)))))))))\n",
    "    return routemode\n"
   ]
  },
  {
   "cell_type": "code",
   "execution_count": null,
   "id": "718b6666",
   "metadata": {},
   "outputs": [],
   "source": [
    "def join_and_agg(TODSums, routemode):\n",
    "    '''aggregate the on and offs by route or metaMode'''\n",
    "#set the group by field depending on if standard or detailed report\n",
    "    if len(routeList) > 0:\n",
    "        agg = 'ROUTE'\n",
    "    else: \n",
    "        agg = 'metaMode'\n",
    "\n",
    "    for x in TODsums.keys():\n",
    "        if len(routeList)> 0:\n",
    "            TODsums[x] = routefile.merge(TODsums[x], how='outer', left_on='Route_ID', right_on='ROUTE')\n",
    "            TODsums[x]['ROUTE'] = TODsums[x]['Route_Name'].str.replace('.', ':', regex=True).str.split(':').str[0]\n",
    "        #join each table to route mode\n",
    "            TODsums[x] = routemode.merge(TODsums[x], how='right', left_on='Routes_ID', right_on='Route_ID')\n",
    "        else:\n",
    "            TODsums[x] = routemode.merge(TODsums[x], how='right', left_on='Routes_ID', right_on='ROUTE')\n",
    "        #sum all On/Off fields by metamode \n",
    "        TODsums[x] = TODsums[x].groupby([agg])[['DirectTransferOff','DirectTransferOn','DriveAccessOn','EgressOff','Off','On',\n",
    "                                                'WalkAccessOn','WalkTransferOff','WalkTransferOn']].agg('sum').reset_index()\n",
    "    return TODsums"
   ]
  },
  {
   "cell_type": "code",
   "execution_count": null,
   "id": "tutorial-leather",
   "metadata": {},
   "outputs": [],
   "source": [
    "def plots(scen2, g):\n",
    "    '''make graphs!'''\n",
    "    onfdict = {}\n",
    "    if len(routeList) > 0: #if detailed/standard use appropriate agg field to graph\n",
    "        xVal = 'ROUTE'\n",
    "    else:\n",
    "        xVal = 'metaMode'\n",
    "    #make faceted graph for base and comparative together    \n",
    "    if 'Comparative Model' in bases.keys():\n",
    "        scen2['compGraph']={}\n",
    "        for tod in scen['Base Model'].keys(): #add flag field so can smush both scenario tables into one\n",
    "            scen2['Base Model'][tod]['Scenario']='Base'\n",
    "            scen2['Comparative Model'][tod]['Scenario']='Comparative'\n",
    "            scen2['compGraph'][tod]=scen2['Base Model'][tod].append(scen2['Comparative Model'][tod]) #smoosh\n",
    "            \n",
    "        TODsums = scen2['compGraph']\n",
    "        \n",
    "        for z in TODsums.keys(): #make graphs (stacked bar)\n",
    "            #set up table so can use for facets (wide to long format and flag field)\n",
    "            lng = TODsums[z].drop(['DirectTransferOff','EgressOff','Off','On','WalkTransferOff'], axis = 1).melt(id_vars = [xVal, 'Scenario'], value_name = 'Count', ignore_index=False) #long to allow flag\n",
    "            #lng=lng.reset_index() #Scenario will be facet field\n",
    "            #make sure ids are strings for graphing purposes\n",
    "            lng[xVal] = lng[xVal].astype(str)\n",
    "            #make faceted stacked bar graphs (on and off dif graphs)\n",
    "            on_off = px.bar(lng, x = xVal, y = 'Count', color = 'variable', facet_col = 'Scenario',title='Base and Comparative Model: '+z+' Boardings')\n",
    "            #save graphs\n",
    "            onfdict[z] = on_off\n",
    "    else: #if only BASE\n",
    "        TODsums = scen2['Base Model']\n",
    "        for z in TODsums.keys(): #go through TOD\n",
    "            TODsums[z][xVal] = TODsums[z][xVal].astype(str) #make safe for graphing\n",
    "            onfdict[z] = px.bar(TODsums[z], x=xVal, y=['DirectTransferOn','DriveAccessOn','WalkAccessOn','WalkTransferOn'],  \n",
    "                               title='Base Model '+z+' Boardings') #graph!\n",
    "    return onfdict"
   ]
  },
  {
   "cell_type": "code",
   "execution_count": null,
   "id": "reliable-combine",
   "metadata": {},
   "outputs": [],
   "source": [
    "def diftab(scen):\n",
    "#make difference tables\n",
    "    onfdict = {}\n",
    "    if len(routeList) > 0: #if detailed/standard use appropriate agg field to graph\n",
    "        xVal = 'ROUTE'\n",
    "    else:\n",
    "        xVal = 'metaMode'\n",
    "    if len(bases.keys()) ==  2:#if two scenarios\n",
    "        for z in TODsums.keys(): #for each TOD\n",
    "            #take the difference (and replace for TOD in the global TODsums)\n",
    "            TODsums[z] = (scen['Base Model'][z].set_index(xVal).drop('Scenario', axis=1) - scen['Comparative Model'][z].set_index(xVal).drop('Scenario', axis=1)).reset_index()\n",
    "            #make sure ids are strings for graphing purposes\n",
    "            TODsums[z][xVal] = TODsums[z][xVal].astype(str)\n",
    "            onfdict[z] = px.bar(TODsums[z], x=xVal, y=['DirectTransferOn','DriveAccessOn','WalkAccessOn','WalkTransferOn'],  \n",
    "                               title='Difference in '+z+' Boardings')\n",
    "    scen['Difference'] = [TODsums, onfdict] #add difference data and graphs to scen dict\n",
    "    return scen"
   ]
  },
  {
   "cell_type": "code",
   "execution_count": null,
   "id": "filled-regard",
   "metadata": {},
   "outputs": [],
   "source": [
    "#call things\n",
    "#write a SUPER FUNCTION!!! (which calls all functions)\n",
    "scen = {}\n",
    "\n",
    "for g in bases.keys(): #run all these functions for each scenario\n",
    "    TODsums = import_transit_assignment(bases[g]) #get the total boarding per route per TOD\n",
    "    routemode = set_up_metamode_table(bases[g]) #assign modes to all routes OR restrict to just selected routes\n",
    "    TODsums = join_and_agg(TODsums, routemode) #aggregate by mode or route\n",
    "    \n",
    "    scen[g] = TODsums\n",
    "    #make graphs\n",
    "scen['compGraph'] = plots(scen,g)  #package the data for showing graphs\n",
    "\n",
    "#this is just for getting the difference to happen\n",
    "if len(bases.keys())==2:\n",
    "    scen = diftab(scen)\n"
   ]
  },
  {
   "cell_type": "markdown",
   "id": "contrary-naples",
   "metadata": {},
   "source": [
    "## Look at Results by TOD"
   ]
  },
  {
   "cell_type": "code",
   "execution_count": null,
   "id": "russian-radiation",
   "metadata": {},
   "outputs": [],
   "source": [
    "#Show AM Boardings\n",
    "scen['compGraph']['AM'].show()\n",
    "#if comparative, also show graphs of boarding differences (base - comparative) \n",
    "if len(bases.keys())==2:\n",
    "    scen['Difference'][1]['AM'].show()\n"
   ]
  },
  {
   "cell_type": "code",
   "execution_count": null,
   "id": "certain-addition",
   "metadata": {},
   "outputs": [],
   "source": [
    "#Show MD Boardings\n",
    "scen['compGraph']['MD'].show()\n",
    "#if comparative, also show graphs of boarding differences (base - comparative) \n",
    "if len(bases.keys())==2:\n",
    "    scen['Difference'][1]['MD'].show()"
   ]
  },
  {
   "cell_type": "code",
   "execution_count": null,
   "id": "sunrise-victor",
   "metadata": {},
   "outputs": [],
   "source": [
    "#Show PM Boardings\n",
    "scen['compGraph']['PM'].show()\n",
    "#if comparative, also show graphs of boarding differences (base - comparative) \n",
    "if len(bases.keys())==2:\n",
    "    scen['Difference'][1]['PM'].show()"
   ]
  },
  {
   "cell_type": "code",
   "execution_count": null,
   "id": "nutritional-integral",
   "metadata": {},
   "outputs": [],
   "source": [
    "#Show NT Boardings\n",
    "scen['compGraph']['NT'].show()\n",
    "#if comparative, also show graphs of boarding differences (base - comparative) \n",
    "if len(bases.keys())==2:\n",
    "    scen['Difference'][1]['NT'].show()"
   ]
  },
  {
   "cell_type": "code",
   "execution_count": null,
   "id": "magnetic-wrestling",
   "metadata": {},
   "outputs": [],
   "source": [
    "#Show Daily Boardings\n",
    "scen['compGraph']['daily'].show()\n",
    "#if comparative, also show graphs of boarding differences (base - comparative) \n",
    "if len(bases.keys())==2:\n",
    "    scen['Difference'][1]['daily'].show()"
   ]
  },
  {
   "cell_type": "code",
   "execution_count": null,
   "id": "powerful-correlation",
   "metadata": {},
   "outputs": [],
   "source": []
  }
 ],
 "metadata": {
  "kernelspec": {
   "display_name": "Python [conda env:base_py_37_plotly]",
   "language": "python",
   "name": "conda-env-base_py_37_plotly-py"
  },
  "language_info": {
   "codemirror_mode": {
    "name": "ipython",
    "version": 3
   },
   "file_extension": ".py",
   "mimetype": "text/x-python",
   "name": "python",
   "nbconvert_exporter": "python",
   "pygments_lexer": "ipython3",
   "version": "3.7.10"
  }
 },
 "nbformat": 4,
 "nbformat_minor": 5
}
