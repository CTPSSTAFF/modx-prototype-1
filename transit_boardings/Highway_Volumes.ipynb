{
 "cells": [
  {
   "cell_type": "markdown",
   "id": "ordered-central",
   "metadata": {},
   "source": [
    "# Highway Volumes Reports\n",
    "\n",
    "- Highway volumes (single report or comparison between 2 scenarios)\n",
    "    - standard\n",
    "        - aggregate (MPO, sub-region, land use classification) \n",
    "        - segmented by facility type \n",
    "    - Detailed\n",
    "        - standard report for user-select links (allow for more than 1 selection set (1,2,3,4..))\n",
    "\n",
    "- Data\n",
    "    - highway assignment results\n",
    "        - SOV, HOV assignment: Out\\**_MMA_LinkFlow.bin\n",
    "        - Truck assignment: Out\\**_MMA_LinkFlow_Trucks.bin\n",
    "            - sum the truck and SOV and HOV\n",
    "            - (look at Tot_Flow, AB_Flow, BA_Flow)\n",
    "\n",
    "\n",
    "** = AM, MD, PM, NT\n",
    "\n",
    "??? = DAT, DET\n"
   ]
  },
  {
   "cell_type": "code",
   "execution_count": null,
   "id": "static-greek",
   "metadata": {},
   "outputs": [],
   "source": [
    "#load csvs and links (table with all attributes if possible, but can be shapefile and just turn into dataframe)\n",
    "# join csv fields to links and get rid of all links outside the MPO\n",
    "#sum by:\n",
    "    #MPO\n",
    "    #MPO Sub-Region\n",
    "    #facility type"
   ]
  }
 ],
 "metadata": {
  "kernelspec": {
   "display_name": "Python [conda env:base_py_37_branca] *",
   "language": "python",
   "name": "conda-env-base_py_37_branca-py"
  },
  "language_info": {
   "codemirror_mode": {
    "name": "ipython",
    "version": 3
   },
   "file_extension": ".py",
   "mimetype": "text/x-python",
   "name": "python",
   "nbconvert_exporter": "python",
   "pygments_lexer": "ipython3",
   "version": "3.7.10"
  }
 },
 "nbformat": 4,
 "nbformat_minor": 5
}
