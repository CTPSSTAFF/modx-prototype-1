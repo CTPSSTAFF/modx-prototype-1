{
 "cells": [
  {
   "cell_type": "markdown",
   "id": "cbf73543",
   "metadata": {},
   "source": [
    "## Notebook to prototype use of ipywidgets (in general) and ipyfilechooser (in particular)"
   ]
  },
  {
   "cell_type": "code",
   "execution_count": null,
   "id": "adolescent-independence",
   "metadata": {},
   "outputs": [],
   "source": [
    "# Notebook to prototype use of ipywidgets (in general) and ipyfilechooser (in particular)\n",
    "\n",
    "import openmatrix as omx\n",
    "import numpy as np\n",
    "import pandas as pd\n",
    "import geopandas as gp\n",
    "import ipywidgets as widgets\n",
    "from ipyfilechooser import FileChooser\n",
    "\n",
    "import matplotlib.pyplot as plt\n",
    "import bokeh\n",
    "import xarray as xr\n",
    "import hvplot.pandas\n",
    "import hvplot.xarray"
   ]
  },
  {
   "cell_type": "code",
   "execution_count": null,
   "id": "unlimited-richards",
   "metadata": {},
   "outputs": [],
   "source": [
    "%matplotlib notebook"
   ]
  },
  {
   "cell_type": "markdown",
   "id": "60a61133",
   "metadata": {},
   "source": [
    "### User input: Specify path to input \"scenario\" directory"
   ]
  },
  {
   "cell_type": "code",
   "execution_count": null,
   "id": "1f2d20af",
   "metadata": {},
   "outputs": [],
   "source": [
    "scenarios_root = '//lilliput/groups/Regional_Modeling/1A_Archives/LRTP_2018'\n",
    "fc = FileChooser(scenarios_root)\n",
    "fc.title = '<b>Select input scenario directory<b>'\n",
    "fc.show_only_dirs = True\n",
    "display(fc)"
   ]
  },
  {
   "cell_type": "code",
   "execution_count": null,
   "id": "d29553c3",
   "metadata": {},
   "outputs": [],
   "source": [
    "scenario_dir = fc.selected\n",
    "scenario_dir"
   ]
  },
  {
   "cell_type": "markdown",
   "id": "cb806faa",
   "metadata": {},
   "source": [
    "### User input: Specify path to directory containing reference GIS data"
   ]
  },
  {
   "cell_type": "code",
   "execution_count": null,
   "id": "7dc00db2",
   "metadata": {},
   "outputs": [],
   "source": [
    "reference_data_root = '//lilliput/groups/Data_Resources'\n",
    "fc = FileChooser(reference_data_root)\n",
    "fc.title = '<b>Select GIS reference data directory<b>'\n",
    "fc.show_only_dirs = True\n",
    "display(fc)"
   ]
  },
  {
   "cell_type": "code",
   "execution_count": null,
   "id": "ed688a78",
   "metadata": {},
   "outputs": [],
   "source": [
    "reference_data_dir = fc.selected\n",
    "reference_data_dir"
   ]
  },
  {
   "cell_type": "markdown",
   "id": "1e99ef89",
   "metadata": {},
   "source": [
    "### Specify you user name (needed to get to the user's home directory on lilliput)"
   ]
  },
  {
   "cell_type": "code",
   "execution_count": null,
   "id": "d3e2be3f",
   "metadata": {},
   "outputs": [],
   "source": [
    "user_name = 'bkrepp'"
   ]
  },
  {
   "cell_type": "markdown",
   "id": "efc24f74",
   "metadata": {},
   "source": [
    "### User input: Specify path to CSV output file"
   ]
  },
  {
   "cell_type": "code",
   "execution_count": null,
   "id": "94043432",
   "metadata": {},
   "outputs": [],
   "source": [
    "user_dir_root = '//lilliput/' + user_name\n",
    "fc = FileChooser(user_dir_root)\n",
    "fc.title = '<b>Specify output CSV file<b>'\n",
    "fc.default_filename = 'output.csv'\n",
    "display(fc)"
   ]
  },
  {
   "cell_type": "code",
   "execution_count": null,
   "id": "5dfe0a4c",
   "metadata": {},
   "outputs": [],
   "source": [
    "sandbox_dir = fc.selected_path\n",
    "output_csv_fn = fc.selected\n",
    "output_csv_fn"
   ]
  },
  {
   "cell_type": "code",
   "execution_count": null,
   "id": "6dd86bab",
   "metadata": {},
   "outputs": [],
   "source": []
  }
 ],
 "metadata": {
  "kernelspec": {
   "display_name": "Python [conda env:.conda-modx_proto1_1] *",
   "language": "python",
   "name": "conda-env-.conda-modx_proto1_1-py"
  },
  "language_info": {
   "codemirror_mode": {
    "name": "ipython",
    "version": 3
   },
   "file_extension": ".py",
   "mimetype": "text/x-python",
   "name": "python",
   "nbconvert_exporter": "python",
   "pygments_lexer": "ipython3",
   "version": "3.7.11"
  }
 },
 "nbformat": 4,
 "nbformat_minor": 5
}
