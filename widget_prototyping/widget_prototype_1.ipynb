{
 "cells": [
  {
   "cell_type": "markdown",
   "id": "cbf73543",
   "metadata": {},
   "source": [
    "## Notebook to prototype use of ipywidgets (in general) and ipyfilechooser (in particular)"
   ]
  },
  {
   "cell_type": "code",
   "execution_count": null,
   "id": "adolescent-independence",
   "metadata": {},
   "outputs": [],
   "source": [
    "# Notebook to prototype use of ipywidgets (in general) and ipyfilechooser (in particular)\n",
    "\n",
    "import openmatrix as omx\n",
    "import numpy as np\n",
    "import pandas as pd\n",
    "import geopandas as gp\n",
    "import ipywidgets as widgets\n",
    "from ipyfilechooser import FileChooser\n",
    "\n",
    "import matplotlib.pyplot as plt\n",
    "import bokeh\n",
    "import xarray as xr\n",
    "import hvplot.pandas\n",
    "import hvplot.xarray"
   ]
  },
  {
   "cell_type": "code",
   "execution_count": null,
   "id": "unlimited-richards",
   "metadata": {},
   "outputs": [],
   "source": [
    "%matplotlib notebook"
   ]
  },
  {
   "cell_type": "markdown",
   "id": "60a61133",
   "metadata": {},
   "source": [
    "### User input: Specify path to input \"scenario\" directory"
   ]
  },
  {
   "cell_type": "code",
   "execution_count": null,
   "id": "1f2d20af",
   "metadata": {},
   "outputs": [],
   "source": [
    "scenarios_root = '//lilliput/groups/Regional_Modeling/1A_Archives/LRTP_2018'\n",
    "fc = FileChooser(scenarios_root)\n",
    "fc.title = '<b>Select input scenario directory<b>'\n",
    "fc.show_only_dirs = True\n",
    "display(fc)"
   ]
  },
  {
   "cell_type": "code",
   "execution_count": null,
   "id": "d29553c3",
   "metadata": {},
   "outputs": [],
   "source": [
    "scenario_dir = fc.selected\n",
    "scenario_dir"
   ]
  },
  {
   "cell_type": "markdown",
   "id": "cb806faa",
   "metadata": {},
   "source": [
    "### User input: Specify path to directory containing reference GIS data"
   ]
  },
  {
   "cell_type": "code",
   "execution_count": null,
   "id": "7dc00db2",
   "metadata": {},
   "outputs": [],
   "source": [
    "reference_data_root = '//lilliput/groups/Data_Resources'\n",
    "fc = FileChooser(reference_data_root)\n",
    "fc.title = '<b>Select GIS reference data directory<b>'\n",
    "fc.show_only_dirs = True\n",
    "display(fc)"
   ]
  },
  {
   "cell_type": "code",
   "execution_count": null,
   "id": "17e6a5ac",
   "metadata": {},
   "outputs": [],
   "source": [
    "reference_data_dir = fc.selected\n",
    "reference_data_dir"
   ]
  },
  {
   "cell_type": "markdown",
   "id": "70ad5d94",
   "metadata": {},
   "source": [
    "### Specify you user name (needed to get to the user's home directory on lilliput)"
   ]
  },
  {
   "cell_type": "code",
   "execution_count": null,
   "id": "c6639810",
   "metadata": {},
   "outputs": [],
   "source": [
    "user_name = 'bkrepp'"
   ]
  },
  {
   "cell_type": "markdown",
   "id": "efc24f74",
   "metadata": {},
   "source": [
    "### User input: Specify path to CSV output file"
   ]
  },
  {
   "cell_type": "code",
   "execution_count": null,
   "id": "94043432",
   "metadata": {},
   "outputs": [],
   "source": [
    "user_dir_root = '//lilliput/' + user_name\n",
    "fc = FileChooser(user_dir_root)\n",
    "fc.title = '<b>Specify output CSV file<b>'\n",
    "fc.default_filename = 'output.csv'\n",
    "display(fc)"
   ]
  },
  {
   "cell_type": "code",
   "execution_count": null,
   "id": "5dfe0a4c",
   "metadata": {},
   "outputs": [],
   "source": [
    "sandbox_dir = fc.selected_path\n",
    "output_csv_fn = fc.selected\n",
    "output_csv_fn"
   ]
  },
  {
   "cell_type": "code",
   "execution_count": null,
   "id": "39eded33",
   "metadata": {},
   "outputs": [],
   "source": []
  },
  {
   "cell_type": "markdown",
   "id": "26e496f1",
   "metadata": {},
   "source": [
    "### Try another approach - selection of user name from a combo-box"
   ]
  },
  {
   "cell_type": "code",
   "execution_count": null,
   "id": "ccfbb730",
   "metadata": {},
   "outputs": [],
   "source": [
    "users = ['annetted', \n",
    "         'bacton', 'bkaplan', 'bkrepp', 'bkuttner', 'bputnam', 'bsadkowski', \n",
    "         'chu', 'cmclaude', 'cyw',\n",
    "         'dbeagan', 'ddavenport', 'djoshi', 'dknudsen',  \n",
    "         'ebromage', 'edomanico', 'eharvey', \n",
    "         'ginag', 'gperille', \n",
    "         'hgandhi', 'hkim', \n",
    "         'janeg', 'jbelcher', 'jchurch', 'jdombroski', \n",
    "         'gpli', 'katep', 'kend', 'kjacob', 'knoonan', \n",
    "         'lazizi', \n",
    "         'mabbott', 'marcher', 'marks', 'matkinson', 'mcgahan', 'mconnolly', \n",
    "         'mgenova', 'mkelly','mmilkovits', 'mscott', \n",
    "         'pamisano', 'pchristner', \n",
    "         'rfoley', 'rhicks', 'rmorgan', 'rroy', \n",
    "         'sandrews', 'sayvazyan','setha', 'sfaghih', 'sjohnston', 'skaul', \n",
    "         'tteich', \n",
    "         'xlu', 'xwang', 'zjin']"
   ]
  },
  {
   "cell_type": "code",
   "execution_count": null,
   "id": "b1347a5f",
   "metadata": {
    "scrolled": true
   },
   "outputs": [],
   "source": [
    "selected_user = users[0] # First user-ID in alphabetical list\n",
    "dropdown_user = widgets.Dropdown(options=users)\n",
    "def dropdown_user_eventhandler(change):\n",
    "    global selected_user\n",
    "    selected_user = change.new\n",
    "    # print(selected_user)\n",
    "#\n",
    "dropdown_user.observe(dropdown_user_eventhandler, names='value')\n",
    "display(dropdown_user)"
   ]
  },
  {
   "cell_type": "code",
   "execution_count": null,
   "id": "306af4dc",
   "metadata": {},
   "outputs": [],
   "source": [
    "user_dir_root = '//lilliput/' + selected_user\n",
    "fc = FileChooser(user_dir_root)\n",
    "fc.title = '<b>Specify output CSV file<b>'\n",
    "fc.default_filename = 'output.csv'\n",
    "display(fc)"
   ]
  },
  {
   "cell_type": "code",
   "execution_count": null,
   "id": "c97a5095",
   "metadata": {},
   "outputs": [],
   "source": []
  }
 ],
 "metadata": {
  "kernelspec": {
   "display_name": "Python [conda env:.conda-modx_proto1_1] *",
   "language": "python",
   "name": "conda-env-.conda-modx_proto1_1-py"
  },
  "language_info": {
   "codemirror_mode": {
    "name": "ipython",
    "version": 3
   },
   "file_extension": ".py",
   "mimetype": "text/x-python",
   "name": "python",
   "nbconvert_exporter": "python",
   "pygments_lexer": "ipython3",
   "version": "3.7.11"
  }
 },
 "nbformat": 4,
 "nbformat_minor": 5
}
